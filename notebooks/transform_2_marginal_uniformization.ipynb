{
 "cells": [
  {
   "cell_type": "code",
   "execution_count": 134,
   "metadata": {},
   "outputs": [
    {
     "name": "stdout",
     "output_type": "stream",
     "text": [
      "The autoreload extension is already loaded. To reload it, use:\n",
      "  %reload_ext autoreload\n"
     ]
    }
   ],
   "source": [
    "import sys\n",
    "sys.path.insert(0, '/Users/eman/Documents/code_projects/rbig/')\n",
    "\n",
    "from rbig.univariate import MarginalUniformization\n",
    "from rbig.data import ToyData\n",
    "\n",
    "\n",
    "import numpy as np\n",
    "import numpy as np\n",
    "from sklearn.base import BaseEstimator, TransformerMixin\n",
    "import warnings\n",
    "from sklearn.utils import check_random_state\n",
    "from sklearn.exceptions import DataConversionWarning\n",
    "from sklearn.utils.validation import column_or_1d\n",
    "import scipy\n",
    "from scipy.interpolate import interp1d\n",
    "\n",
    "import matplotlib.pyplot as plt\n",
    "plt.style.use('ggplot')\n",
    "\n",
    "%load_ext autoreload\n",
    "%autoreload 2"
   ]
  },
  {
   "cell_type": "code",
   "execution_count": 146,
   "metadata": {},
   "outputs": [],
   "source": [
    "seed = 123\n",
    "rng = np.random.RandomState(seed=seed)\n",
    "\n",
    "data = ToyData('moons', 10000, 0.1, 123).generate_samples()\n",
    "X = data[:, 0]\n",
    "Y = data[:, 1]"
   ]
  },
  {
   "cell_type": "markdown",
   "metadata": {},
   "source": [
    "### Bounds Check"
   ]
  },
  {
   "cell_type": "code",
   "execution_count": 49,
   "metadata": {},
   "outputs": [],
   "source": [
    "def check_bounds(X=None, bounds=([-np.inf, np.inf]), extend=True):\n",
    "    \"\"\"Checks the bounds. Since we are going from an unbound domain to\n",
    "    a bounded domain (Random Dist to Uniform Dist) we are going to have\n",
    "    a problem with defining the boundaries. This function will either \n",
    "    have set boundaries or extend the boundaries with with a percentage.\n",
    "    \n",
    "    Parameters\n",
    "    ----------\n",
    "    X : array-like, default=None\n",
    "    \n",
    "    bounds : int or array-like [low, high]\n",
    "    \n",
    "    extend : bool, default=True\n",
    "    \n",
    "    Returns\n",
    "    -------\n",
    "    bounds : array-like\n",
    "    \n",
    "    References\n",
    "    ---------\n",
    "    https://github.com/davidinouye/destructive-deep-learning/blob/master/ddl/univariate.py#L506\n",
    "    \"\"\"\n",
    "    \n",
    "    \n",
    "    default_support = np.array([-np.inf, np.inf])\n",
    "    \n",
    "    # Case I - Extension\n",
    "    if np.isscalar(bounds):\n",
    "        \n",
    "        \n",
    "        if X is None:\n",
    "            # If no X, return default support (unbounded domain)\n",
    "            return default_support\n",
    "        else:\n",
    "            # extend the domain by x percent\n",
    "            percent_extension = bounds\n",
    "            \n",
    "            # Get the min and max for the current domain\n",
    "            domain = np.array([np.min(X), np.max(X)])\n",
    "            \n",
    "            # Get the mean value of the domain\n",
    "            center = np.mean(domain)\n",
    "            \n",
    "            # Extend the domain on either sides\n",
    "            domain = (1 + percent_extension) * (domain - center) + center\n",
    "            \n",
    "            return domain\n",
    "    \n",
    "    \n",
    "    # Case II - Directly compute\n",
    "    else:\n",
    "        domain = column_or_1d(bounds).copy()\n",
    "        \n",
    "        if domain.shape[0] != 2:\n",
    "            raise ValueError('Domain should either be a two element array-like' \n",
    "                             ' or a scalar indicating percentage extension of domain.')\n",
    "        \n",
    "        return domain\n",
    "\n",
    "    from sklearn.exceptions import DataConversionWarning\n",
    "\n",
    "def check_X(X, bounds, inverse=False):\n",
    "    \n",
    "    bounds = check_bounds(X, bounds)\n",
    "    \n",
    "    if np.any(X <= bounds[0]) or np.any(X >= bounds[1]):\n",
    "        warnings.warn(BoundaryWarning(\n",
    "            'Input to random variable function has at least one value outside of bounds '\n",
    "            'but all inputs should be in (bounds[0], bounds[1]) exclusinve. Bounding '\n",
    "            'values away from bounds[0] and bounds[1].'\n",
    "        ))\n",
    "        \n",
    "        X = make_interior(X, bounds)\n",
    "    return X\n",
    "def make_interior(X, bounds, eps=None):\n",
    "    \"\"\"Scale/Shift data to fit in the open interval given by bounds.\n",
    "    \n",
    "    Parameters\n",
    "    ----------\n",
    "    X : array-like, shape (n_samples, n_features)\n",
    "        Data matrix\n",
    "    \n",
    "    bounds : array-like, shape (2,)\n",
    "        Minimum and maximum of bounds.\n",
    "    \n",
    "    eps : float, optional\n",
    "        Epsilon for clipping, defaults to ``np.info(X.dtype).eps``\n",
    "        \n",
    "    Returns\n",
    "    -------\n",
    "    X : array, shape (n_samples, n_features)\n",
    "        Data matrix after possible modification\n",
    "    \"\"\"\n",
    "    X = check_floating(X)\n",
    "    \n",
    "    if eps is None:\n",
    "        eps = np.finfo(X.dtype).eps\n",
    "        \n",
    "    left = bounds[0] + np.abs(bounds[0] * eps)\n",
    "    right = bounds[1] - np.abs(bounds[1] * eps)\n",
    "    return np.minimum(np.maximum(X, left), right)"
   ]
  },
  {
   "cell_type": "code",
   "execution_count": null,
   "metadata": {},
   "outputs": [],
   "source": []
  },
  {
   "cell_type": "markdown",
   "metadata": {},
   "source": [
    "### Histogram Uniformization"
   ]
  },
  {
   "cell_type": "code",
   "execution_count": 140,
   "metadata": {},
   "outputs": [
    {
     "name": "stdout",
     "output_type": "stream",
     "text": [
      "-1.258442446989061 2.3001560604849707\n",
      "-1.258442446989061 2.3001560604849707\n"
     ]
    }
   ],
   "source": [
    "# Check if X is within Bounds\n",
    "print(X.min(), X.max())\n",
    "# X_ = check_X(X, bounds)\n",
    "print(X.min(), X.max())"
   ]
  },
  {
   "cell_type": "code",
   "execution_count": 141,
   "metadata": {},
   "outputs": [],
   "source": [
    "# # Check Bounds\n",
    "# print(bounds)\n",
    "\n",
    "# bounds_ = check_bounds(X, bounds)\n",
    "\n",
    "# print(bounds_)"
   ]
  },
  {
   "cell_type": "markdown",
   "metadata": {},
   "source": [
    "#### Bin Edges and Bin Centers"
   ]
  },
  {
   "cell_type": "code",
   "execution_count": 142,
   "metadata": {},
   "outputs": [],
   "source": [
    "def bin_estimation(X, rule='scott'):\n",
    "    \n",
    "    n_samples = X.shape[0]\n",
    "    \n",
    "    if rule == 'sqrt':\n",
    "        nbins = np.sqrt(n_samples)\n",
    "    elif rule == 'scott':\n",
    "        nbins = (3.49 * np.std(X)) / np.cbrt(n_samples)\n",
    "    elif rule == 'sturge':\n",
    "        nbins = 1 + np.log2(n_samples)\n",
    "    elif rule == 'rice':\n",
    "        nbins = 2 * np.cbrt(n_samples)\n",
    "    else:\n",
    "        raise ValueError(f\"Unrecognized rule: {rule}\")\n",
    "        \n",
    "    \n",
    "    return int(np.ceil(nbins))"
   ]
  },
  {
   "cell_type": "code",
   "execution_count": 143,
   "metadata": {},
   "outputs": [
    {
     "name": "stdout",
     "output_type": "stream",
     "text": [
      "Estimated nbins: 100\n"
     ]
    }
   ],
   "source": [
    "nbins = bin_estimation(X, rule='sqrt')\n",
    "print(f\"Estimated nbins: {nbins}\")"
   ]
  },
  {
   "cell_type": "code",
   "execution_count": 149,
   "metadata": {},
   "outputs": [],
   "source": [
    "class MarginalUniformization(BaseEstimator, TransformerMixin):\n",
    "    def __init__(self, bins_est='sqrt', pdf_extension=0.1, cdf_precision=1000, alpha=1e-6):\n",
    "        self.bins_est = bins_est\n",
    "        self.pdf_extension = pdf_extension\n",
    "        self.cdf_precision = cdf_precision\n",
    "        self.alpha = alpha\n",
    "    def fit(self, X):\n",
    "        nbins = bin_estimation(X, rule=self.bins_est)\n",
    "        # Get Histogram (Histogram PDF, Histogtam bins)\n",
    "        hpdf, hbins = np.histogram(X, bins=nbins)\n",
    "        hpdf = np.array(hpdf, dtype=float)\n",
    "        hpdf += self.alpha\n",
    "        assert(len(hpdf) == nbins)\n",
    "        # CDF\n",
    "        hcdf = np.cumsum(hpdf)\n",
    "        hcdf = (1 - 1 / X.shape[0]) * hcdf / X.shape[0]\n",
    "        # Get Bin Widths\n",
    "        hbin_widths = hbins[1:] - hbins[:-1]\n",
    "        hbin_centers = 0.5 * (hbins[:-1] + hbins[1:])\n",
    "        assert(len(hbin_widths) == nbins)\n",
    "        # Get Bin StepSizde\n",
    "        bin_step_size = hbins[2] - hbins[1]\n",
    "\n",
    "        # Normalize hpdf\n",
    "        hpdf = hpdf / float(np.sum(hpdf * hbin_widths))\n",
    "\n",
    "\n",
    "        # Handle Tails of PDF\n",
    "        hpdf = np.hstack([0.0, hpdf, 0.0])\n",
    "        hpdf_support = np.hstack([\n",
    "            hbin_centers[0] - bin_step_size,\n",
    "            hbin_centers,\n",
    "            hbin_centers[-1] + bin_step_size\n",
    "        ])\n",
    "\n",
    "        # hcdf = np.hstack([0.0, hcdf])\n",
    "        domain_extension = 0.1\n",
    "        precision = 1000\n",
    "        old_support = np.array([X.min(), X.max()])\n",
    "\n",
    "        support_extension = (domain_extension / 100) * abs(np.max(X) - np.min(X))\n",
    "        # old_support = np.array([X.min(), X.max()])\n",
    "\n",
    "        old_support = np.array([X.min(), X.max()])\n",
    "        new_support = (1 + domain_extension) * (old_support - X.mean()) + X.mean()\n",
    "\n",
    "        new_support = np.array([\n",
    "            X.min() - support_extension, \n",
    "            X.max() + support_extension\n",
    "        ])\n",
    "        \n",
    "        # Define New HPDF support\n",
    "        hpdf_support_ext = np.hstack([\n",
    "            X.min() - support_extension, \n",
    "            X.min(), \n",
    "            hbin_centers + bin_step_size, \n",
    "            X.max() + support_extension + bin_step_size\n",
    "        ])\n",
    "\n",
    "        # Define New HCDF\n",
    "        hcdf_ext = np.hstack([\n",
    "            0.0, \n",
    "            1.0 / X.shape[0], \n",
    "            hcdf, \n",
    "            1.0\n",
    "        ])\n",
    "        # Define New support for hcdf\n",
    "        hcdf_support = np.linspace(hpdf_support_ext[0], hpdf_support_ext[-1], precision)\n",
    "        self.hcdf_support = hcdf_support\n",
    "        # Interpolate HCDF with new precision\n",
    "        hcdf_ext = np.interp(hcdf_support, hpdf_support_ext, hcdf_ext, )\n",
    "        self.hcdf = hcdf_ext\n",
    "        self.hpdf = hpdf\n",
    "        self.hpdf_support = hpdf_support\n",
    "\n",
    "        return self\n",
    "    \n",
    "    def transform(self, X):\n",
    "        return np.interp(X, self.hcdf_support, self.hcdf)\n",
    "    \n",
    "    def inverse_transform(self, X):\n",
    "        return np.interp(X, self.hcdf, self.hcdf_support)\n",
    "    \n",
    "    def logpdf(self):\n",
    "        return np.log(self.hpdf[1:-1])"
   ]
  },
  {
   "cell_type": "code",
   "execution_count": 151,
   "metadata": {},
   "outputs": [
    {
     "name": "stdout",
     "output_type": "stream",
     "text": [
      "[-4.77032742 -4.07718041 -3.92302975 -2.65006418 -2.31359195 -1.86160684\n",
      " -1.55145191 -1.26376985 -1.00912763 -0.9344661  -0.97859091 -0.96366526\n",
      " -1.38030366 -1.08144829 -1.29422905 -1.39160322 -1.57848059 -1.56487493\n",
      " -1.36913036 -1.69455276 -1.66424741 -1.62044478 -1.77459546 -1.66424741\n",
      " -1.74180564 -1.7258053  -1.69455276 -2.15536795 -1.75806616 -1.53820669\n",
      " -1.67928528 -1.60626015 -1.38030366 -1.23421104 -0.95628515 -0.79376622\n",
      " -0.81908403 -0.66493335 -0.58573631 -0.65400428 -0.7813437  -0.58573631\n",
      " -0.81269423 -0.78753567 -1.05675568 -0.8516602  -1.07314949 -1.1067661\n",
      " -1.00912763 -0.9060954  -0.87850745 -1.05675568 -0.91311298 -0.98613811\n",
      " -0.94895911 -0.85830474 -0.94895911 -0.97859091 -0.82551492 -0.81908403\n",
      " -0.42220267 -0.62719302 -0.68155423 -0.61666661 -0.86499373 -1.0406263\n",
      " -1.00912763 -1.45009942 -1.62044478 -1.60626015 -1.75806616 -1.57848059\n",
      " -1.82588876 -1.63483352 -1.55145191 -1.63483352 -1.82588876 -1.53820669\n",
      " -1.99773901 -1.75806616 -1.66424741 -1.53820669 -1.56487493 -1.40303191\n",
      " -1.48691339 -1.46222078 -1.17759215 -1.09825541 -1.02475295 -1.00912763\n",
      " -1.00140558 -1.16845967 -1.25381951 -1.40303191 -1.74180564 -2.04029862\n",
      " -2.50164418 -2.77789754 -3.67171535 -4.48264543]\n"
     ]
    },
    {
     "data": {
      "image/png": "[encoded data removed]",
      "text/plain": [
       "<Figure size 432x288 with 4 Axes>"
      ]
     },
     "metadata": {},
     "output_type": "display_data"
    }
   ],
   "source": [
    "muni_model = MarginalUniformization()\n",
    "muni_model.fit(X);\n",
    "\n",
    "X_uni = muni_model.transform(X)\n",
    "X_approx = muni_model.inverse_transform(X_uni)\n",
    "logpdf = muni_model.logpdf()\n",
    "print(logpdf)\n",
    "X_uni.min(), X_uni.max()\n",
    "\n",
    "fig, ax = plt.subplots(ncols=4)\n",
    "\n",
    "ax[0].hist(X, bins=100)\n",
    "ax[1].hist(X_uni, bins=100)\n",
    "ax[2].hist(X_approx, bins=100)\n",
    "ax[3].hist(muni_model.hpdf, bins=100)\n",
    "plt.tight_layout()\n",
    "plt.show()"
   ]
  },
  {
   "cell_type": "code",
   "execution_count": 54,
   "metadata": {},
   "outputs": [
    {
     "name": "stdout",
     "output_type": "stream",
     "text": [
      "PDF: 0.0, 0.4482673830041965, (73,)\n",
      "PDF Support: -0.053388421007647596, 7.656295867950861, (73,)\n"
     ]
    }
   ],
   "source": [
    "# Get Histogram (Histogram PDF, Histogtam bins)\n",
    "hpdf, hbins = np.histogram(X, bins=nbins)\n",
    "assert(len(hpdf) == nbins)\n",
    "\n",
    "# CDF\n",
    "hcdf = np.cumsum(hpdf)\n",
    "hcdf = (1 - 1 / X.shape[0]) * hcdf / X.shape[0]\n",
    "\n",
    "# Get Bin Widths\n",
    "hbin_widths = hbins[1:] - hbins[:-1]\n",
    "hbin_centers = 0.5 * (hbins[:-1] + hbins[1:])\n",
    "assert(len(hbin_widths) == nbins)\n",
    "\n",
    "# Get Bin StepSizde\n",
    "bin_step_size = hbins[2] - hbins[1]\n",
    "\n",
    "# Normalize hpdf\n",
    "hpdf = hpdf / float(np.sum(hpdf * hbin_widths))\n",
    "\n",
    "\n",
    "# Handle Tails of PDF\n",
    "hpdf = np.hstack([0.0, hpdf, 0.0])\n",
    "hpdf_support = np.hstack([\n",
    "    hbin_centers[0] - bin_step_size,\n",
    "    hbin_centers,\n",
    "    hbin_centers[-1] + bin_step_size\n",
    "])\n",
    "\n",
    "# hcdf = np.hstack([0.0, hcdf])\n",
    "print(f\"PDF: {hpdf.min()}, {hpdf.max()}, {hpdf.shape}\")\n",
    "print(f\"PDF Support: {hpdf_support.min()}, {hpdf_support.max()}, {hpdf_support.shape}\")"
   ]
  },
  {
   "cell_type": "code",
   "execution_count": 55,
   "metadata": {},
   "outputs": [
    {
     "data": {
      "image/png": "[encoded data removed]",
      "text/plain": [
       "<Figure size 432x288 with 3 Axes>"
      ]
     },
     "metadata": {
      "needs_background": "light"
     },
     "output_type": "display_data"
    }
   ],
   "source": [
    "fig, ax = plt.subplots(ncols=3)\n",
    "ax[0].plot(hpdf)\n",
    "ax[1].plot(hbin_centers)\n",
    "ax[2].plot(hcdf)\n",
    "plt.show()"
   ]
  },
  {
   "cell_type": "markdown",
   "metadata": {},
   "source": [
    "#### Support Extension\n",
    "\n",
    "Here we want to extend the domain of the support for the uniform distribution. We have a parameter called `domain_extension` which gives a parameter (in %) for the amount the domain gets shifted."
   ]
  },
  {
   "cell_type": "code",
   "execution_count": 56,
   "metadata": {},
   "outputs": [
    {
     "name": "stdout",
     "output_type": "stream",
     "text": [
      "Support Extension: 0.007602605340500752\n",
      "Old Support: [1.51053221e-04 7.60275639e+00]\n",
      "New Support: [-0.15772027  8.2051456 ]\n"
     ]
    }
   ],
   "source": [
    "domain_extension = 0.1\n",
    "precision = 1000\n",
    "old_support = np.array([X.min(), X.max()])\n",
    "\n",
    "support_extension = (domain_extension / 100) * abs(np.max(X) - np.min(X))\n",
    "print(f\"Support Extension: {support_extension}\")\n",
    "# old_support = np.array([X.min(), X.max()])\n",
    "\n",
    "old_support = np.array([X.min(), X.max()])\n",
    "new_support = (1 + domain_extension) * (old_support - X.mean()) + X.mean()\n",
    "print(f\"Old Support: {old_support}\")\n",
    "print(f\"New Support: {new_support}\")"
   ]
  },
  {
   "cell_type": "code",
   "execution_count": 57,
   "metadata": {},
   "outputs": [
    {
     "data": {
      "text/plain": [
       "array([-7.45155212e-03,  7.61035900e+00])"
      ]
     },
     "execution_count": 57,
     "metadata": {},
     "output_type": "execute_result"
    }
   ],
   "source": [
    "new_support = np.array([\n",
    "    X.min() - support_extension, \n",
    "    X.max() + support_extension\n",
    "])\n",
    "\n",
    "new_support"
   ]
  },
  {
   "cell_type": "markdown",
   "metadata": {},
   "source": [
    "#### CDF"
   ]
  },
  {
   "cell_type": "code",
   "execution_count": 58,
   "metadata": {},
   "outputs": [
    {
     "name": "stdout",
     "output_type": "stream",
     "text": [
      "(74,)\n",
      "(74,)\n"
     ]
    },
    {
     "data": {
      "text/plain": [
       "[<matplotlib.lines.Line2D at 0xd18950198>]"
      ]
     },
     "execution_count": 58,
     "metadata": {},
     "output_type": "execute_result"
    },
    {
     "data": {
      "image/png": "[encoded data removed]",
      "text/plain": [
       "<Figure size 432x288 with 1 Axes>"
      ]
     },
     "metadata": {
      "needs_background": "light"
     },
     "output_type": "display_data"
    }
   ],
   "source": [
    "# Define New HPDF support\n",
    "hpdf_support_ext = np.hstack([\n",
    "    X.min() - support_extension, \n",
    "    X.min(), \n",
    "    hbin_centers + bin_step_size, \n",
    "    X.max() + support_extension + bin_step_size\n",
    "])\n",
    "print(hpdf_support_ext.shape)\n",
    "\n",
    "\n",
    "# Define New HCDF\n",
    "hcdf_ext = np.hstack([\n",
    "    0.0, \n",
    "    1.0 / X.shape[0], \n",
    "    hcdf, \n",
    "    1.0\n",
    "])\n",
    "print(hcdf_ext.shape)\n",
    "\n",
    "plt.plot(hpdf_support_ext)"
   ]
  },
  {
   "cell_type": "code",
   "execution_count": 59,
   "metadata": {},
   "outputs": [
    {
     "name": "stdout",
     "output_type": "stream",
     "text": [
      "-0.007451552119269835 7.71743794752024\n"
     ]
    },
    {
     "data": {
      "text/plain": [
       "[<matplotlib.lines.Line2D at 0x1087baba8>]"
      ]
     },
     "execution_count": 59,
     "metadata": {},
     "output_type": "execute_result"
    },
    {
     "data": {
      "image/png": "[encoded data removed]",
      "text/plain": [
       "<Figure size 432x288 with 1 Axes>"
      ]
     },
     "metadata": {
      "needs_background": "light"
     },
     "output_type": "display_data"
    }
   ],
   "source": [
    "plt.plot(hcdf_ext)\n",
    "# Define New support for hcdf\n",
    "hcdf_support = np.linspace(hpdf_support_ext[0], hpdf_support_ext[-1], precision)\n",
    "print(hcdf_support.min(), hcdf_support.max())\n",
    "\n",
    "# Interpolate HCDF with new precision\n",
    "hcdf_ext = np.interp(hcdf_support, hpdf_support_ext, hcdf_ext, )\n",
    "plt.plot(hcdf_ext)\n",
    "# hcdf_ext /= hcdf_ext.max()"
   ]
  },
  {
   "cell_type": "code",
   "execution_count": 60,
   "metadata": {},
   "outputs": [
    {
     "data": {
      "image/png": "[encoded data removed]",
      "text/plain": [
       "<Figure size 432x288 with 2 Axes>"
      ]
     },
     "metadata": {
      "needs_background": "light"
     },
     "output_type": "display_data"
    }
   ],
   "source": [
    "fig, ax = plt.subplots(ncols=2)\n",
    "ax[0].plot(hcdf_ext)\n",
    "ax[1].plot(hcdf_support)\n",
    "plt.show()"
   ]
  },
  {
   "cell_type": "code",
   "execution_count": 61,
   "metadata": {},
   "outputs": [
    {
     "data": {
      "text/plain": [
       "(0.00022782884635635275, 0.9997000200000001)"
      ]
     },
     "execution_count": 61,
     "metadata": {},
     "output_type": "execute_result"
    }
   ],
   "source": [
    "X_uni = np.interp(X, hcdf_support, hcdf_ext)\n",
    "X_uni.min(), X_uni.max()"
   ]
  },
  {
   "cell_type": "code",
   "execution_count": 62,
   "metadata": {},
   "outputs": [
    {
     "data": {
      "image/png": "[encoded data removed]",
      "text/plain": [
       "<Figure size 432x288 with 1 Axes>"
      ]
     },
     "metadata": {
      "needs_background": "light"
     },
     "output_type": "display_data"
    }
   ],
   "source": [
    "X_uni.min(), X_uni.max()\n",
    "\n",
    "fig, ax = plt.subplots()\n",
    "\n",
    "ax.hist(X_uni, bins=100)\n",
    "plt.show()"
   ]
  },
  {
   "cell_type": "markdown",
   "metadata": {},
   "source": [
    "### Transform"
   ]
  },
  {
   "cell_type": "code",
   "execution_count": 32,
   "metadata": {},
   "outputs": [
    {
     "ename": "ValueError",
     "evalue": "fp and xp are not of the same length.",
     "output_type": "error",
     "traceback": [
      "\u001b[0;31m---------------------------------------------------------------------------\u001b[0m",
      "\u001b[0;31mValueError\u001b[0m                                Traceback (most recent call last)",
      "\u001b[0;32m<ipython-input-32-bd6dbdcc6631>\u001b[0m in \u001b[0;36m<module>\u001b[0;34m()\u001b[0m\n\u001b[0;32m----> 1\u001b[0;31m \u001b[0mX_uni\u001b[0m \u001b[0;34m=\u001b[0m \u001b[0mnp\u001b[0m\u001b[0;34m.\u001b[0m\u001b[0minterp\u001b[0m\u001b[0;34m(\u001b[0m\u001b[0mX\u001b[0m\u001b[0;34m,\u001b[0m \u001b[0mhcdf\u001b[0m\u001b[0;34m,\u001b[0m \u001b[0mhcdf_support\u001b[0m\u001b[0;34m)\u001b[0m\u001b[0;34m\u001b[0m\u001b[0;34m\u001b[0m\u001b[0m\n\u001b[0m",
      "\u001b[0;32m~/anaconda3/envs/rbig/lib/python3.6/site-packages/numpy/lib/function_base.py\u001b[0m in \u001b[0;36minterp\u001b[0;34m(x, xp, fp, left, right, period)\u001b[0m\n\u001b[1;32m   1306\u001b[0m         \u001b[0mfp\u001b[0m \u001b[0;34m=\u001b[0m \u001b[0mnp\u001b[0m\u001b[0;34m.\u001b[0m\u001b[0mconcatenate\u001b[0m\u001b[0;34m(\u001b[0m\u001b[0;34m(\u001b[0m\u001b[0mfp\u001b[0m\u001b[0;34m[\u001b[0m\u001b[0;34m-\u001b[0m\u001b[0;36m1\u001b[0m\u001b[0;34m:\u001b[0m\u001b[0;34m]\u001b[0m\u001b[0;34m,\u001b[0m \u001b[0mfp\u001b[0m\u001b[0;34m,\u001b[0m \u001b[0mfp\u001b[0m\u001b[0;34m[\u001b[0m\u001b[0;36m0\u001b[0m\u001b[0;34m:\u001b[0m\u001b[0;36m1\u001b[0m\u001b[0;34m]\u001b[0m\u001b[0;34m)\u001b[0m\u001b[0;34m)\u001b[0m\u001b[0;34m\u001b[0m\u001b[0;34m\u001b[0m\u001b[0m\n\u001b[1;32m   1307\u001b[0m \u001b[0;34m\u001b[0m\u001b[0m\n\u001b[0;32m-> 1308\u001b[0;31m     \u001b[0;32mreturn\u001b[0m \u001b[0minterp_func\u001b[0m\u001b[0;34m(\u001b[0m\u001b[0mx\u001b[0m\u001b[0;34m,\u001b[0m \u001b[0mxp\u001b[0m\u001b[0;34m,\u001b[0m \u001b[0mfp\u001b[0m\u001b[0;34m,\u001b[0m \u001b[0mleft\u001b[0m\u001b[0;34m,\u001b[0m \u001b[0mright\u001b[0m\u001b[0;34m)\u001b[0m\u001b[0;34m\u001b[0m\u001b[0;34m\u001b[0m\u001b[0m\n\u001b[0m\u001b[1;32m   1309\u001b[0m \u001b[0;34m\u001b[0m\u001b[0m\n\u001b[1;32m   1310\u001b[0m \u001b[0;34m\u001b[0m\u001b[0m\n",
      "\u001b[0;31mValueError\u001b[0m: fp and xp are not of the same length."
     ]
    }
   ],
   "source": [
    "X_uni = np.interp(X, hcdf, hcdf_support)"
   ]
  },
  {
   "cell_type": "code",
   "execution_count": null,
   "metadata": {},
   "outputs": [],
   "source": []
  },
  {
   "cell_type": "code",
   "execution_count": null,
   "metadata": {},
   "outputs": [],
   "source": []
  },
  {
   "cell_type": "markdown",
   "metadata": {},
   "source": [
    "#### Entropy Calculation"
   ]
  },
  {
   "cell_type": "markdown",
   "metadata": {},
   "source": [
    "```python\n",
    "idx = where(hpdf[1:-1] > 0.0, )\n",
    "res = np.log(idx)\n",
    "-np.sum(hpdf[1:-1] * res * bin_widths)\n",
    "```"
   ]
  },
  {
   "cell_type": "code",
   "execution_count": null,
   "metadata": {},
   "outputs": [],
   "source": []
  }
 ],
 "metadata": {
  "kernelspec": {
   "display_name": "Python 3",
   "language": "python",
   "name": "python3"
  },
  "language_info": {
   "codemirror_mode": {
    "name": "ipython",
    "version": 3
   },
   "file_extension": ".py",
   "mimetype": "text/x-python",
   "name": "python",
   "nbconvert_exporter": "python",
   "pygments_lexer": "ipython3",
   "version": "3.6.9"
  }
 },
 "nbformat": 4,
 "nbformat_minor": 4
}
