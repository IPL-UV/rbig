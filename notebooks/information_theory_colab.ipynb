{
  "nbformat": 4,
  "nbformat_minor": 0,
  "metadata": {
    "kernelspec": {
      "display_name": "Python 3",
      "language": "python",
      "name": "python3"
    },
    "language_info": {
      "codemirror_mode": {
        "name": "ipython",
        "version": 3
      },
      "file_extension": ".py",
      "mimetype": "text/x-python",
      "name": "python",
      "nbconvert_exporter": "python",
      "pygments_lexer": "ipython3",
      "version": "3.6.8"
    },
    "colab": {
      "name": "information_theory.ipynb",
      "provenance": []
    }
  },
  "cells": [
    {
      "cell_type": "markdown",
      "metadata": {
        "id": "ZRCjbzVliJqr"
      },
      "source": [
        "# Information Theory Measures w/ RBIG"
      ]
    },
    {
      "cell_type": "code",
      "metadata": {
        "id": "j_R_4lSMm09-",
        "outputId": "70a96e4c-e34d-4222-deb6-b4ae1b27cb94",
        "colab": {
          "base_uri": "https://localhost:8080/",
          "height": 191
        }
      },
      "source": [
        "!pip install \"git+https://github.com/IPL-UV/rbig.git\""
      ],
      "execution_count": 3,
      "outputs": [
        {
          "output_type": "stream",
          "text": [
            "Collecting git+https://github.com/IPL-UV/rbig.git\n",
            "  Cloning https://github.com/IPL-UV/rbig.git to /tmp/pip-req-build-57sqaktl\n",
            "  Running command git clone -q https://github.com/IPL-UV/rbig.git /tmp/pip-req-build-57sqaktl\n",
            "Building wheels for collected packages: py-rbig\n",
            "  Building wheel for py-rbig (setup.py) ... \u001b[?25l\u001b[?25hdone\n",
            "  Created wheel for py-rbig: filename=py_rbig-0.0.1-cp36-none-any.whl size=31612 sha256=b5e4249645450dcfae0165a8c4d0ee916d060d1f2c3b5a417c70ce5532666f1a\n",
            "  Stored in directory: /tmp/pip-ephem-wheel-cache-gqku5w38/wheels/44/83/b6/1b809fcf994755ddd81da1fb7a4e11089ac23861253e5881b6\n",
            "Successfully built py-rbig\n",
            "Installing collected packages: py-rbig\n",
            "Successfully installed py-rbig-0.0.1\n"
          ],
          "name": "stdout"
        }
      ]
    },
    {
      "cell_type": "code",
      "metadata": {
        "id": "ebI0q42KiJqu"
      },
      "source": [
        "import sys\n",
        "\n",
        "import numpy as np\n",
        "import warnings\n",
        "from time import time\n",
        "from rbig.rbig import RBIGKLD, RBIG, RBIGMI, entropy_marginal\n",
        "from sklearn.model_selection import train_test_split\n",
        "from sklearn.utils import check_random_state\n",
        "import matplotlib.pyplot as plt\n",
        "plt.style.use('ggplot')\n",
        "%matplotlib inline\n",
        "\n",
        "warnings.filterwarnings('ignore') # get rid of annoying warnings\n",
        "\n",
        "%load_ext autoreload\n",
        "%autoreload 2"
      ],
      "execution_count": 4,
      "outputs": []
    },
    {
      "cell_type": "markdown",
      "metadata": {
        "id": "4rm8Xi5ZiJq2"
      },
      "source": [
        "---\n",
        "## Total Correlation"
      ]
    },
    {
      "cell_type": "code",
      "metadata": {
        "id": "WgIrmI5kiJq7"
      },
      "source": [
        "#Parameters\n",
        "n_samples = 10000\n",
        "d_dimensions = 10\n",
        "\n",
        "seed = 123\n",
        "\n",
        "rng = check_random_state(seed)"
      ],
      "execution_count": 5,
      "outputs": []
    },
    {
      "cell_type": "markdown",
      "metadata": {
        "id": "4mIM_tjPiJrC"
      },
      "source": [
        "#### Sample Data"
      ]
    },
    {
      "cell_type": "code",
      "metadata": {
        "id": "tRd_JuThiJrD"
      },
      "source": [
        "# Generate random normal data\n",
        "data_original = rng.randn(n_samples, d_dimensions)\n",
        "\n",
        "# Generate random Data\n",
        "A = rng.rand(d_dimensions, d_dimensions)\n",
        "\n",
        "data = data_original @ A\n",
        "\n",
        "# covariance matrix\n",
        "C = A.T @ A\n",
        "vv = np.diag(C)"
      ],
      "execution_count": 6,
      "outputs": []
    },
    {
      "cell_type": "markdown",
      "metadata": {
        "id": "SdmsROtliJrK"
      },
      "source": [
        "#### Calculate Total Correlation"
      ]
    },
    {
      "cell_type": "code",
      "metadata": {
        "id": "dxIjX6huiJrK",
        "outputId": "a3804d96-55d1-45ed-bfc3-26e4af004a1e",
        "colab": {
          "base_uri": "https://localhost:8080/",
          "height": 34
        }
      },
      "source": [
        "tc_original = np.log(np.sqrt(vv)).sum() - 0.5 * np.log(np.linalg.det(C))\n",
        "\n",
        "print(f\"TC: {tc_original:.4f}\")"
      ],
      "execution_count": 7,
      "outputs": [
        {
          "output_type": "stream",
          "text": [
            "TC: 9.9326\n"
          ],
          "name": "stdout"
        }
      ]
    },
    {
      "cell_type": "markdown",
      "metadata": {
        "id": "14coMQvIiJrS"
      },
      "source": [
        "### RBIG - TC"
      ]
    },
    {
      "cell_type": "code",
      "metadata": {
        "id": "A9MMlPcAiJrU",
        "outputId": "6c38d56a-3dce-4174-feff-a4a4926555f4",
        "colab": {
          "base_uri": "https://localhost:8080/",
          "height": 52
        }
      },
      "source": [
        "%%time \n",
        "n_layers = 10000\n",
        "rotation_type = 'PCA'\n",
        "random_state = 0\n",
        "zero_tolerance = 60\n",
        "pdf_extension = 10\n",
        "pdf_resolution = None\n",
        "tolerance = None\n",
        "\n",
        "# Initialize RBIG class\n",
        "tc_rbig_model = RBIG(n_layers=n_layers, \n",
        "                  rotation_type=rotation_type, \n",
        "                  random_state=random_state, \n",
        "                  zero_tolerance=zero_tolerance,\n",
        "                  tolerance=tolerance,\n",
        "                  pdf_extension=pdf_extension,\n",
        "                  pdf_resolution=pdf_resolution)\n",
        "\n",
        "# fit model to the data\n",
        "tc_rbig_model.fit(data);"
      ],
      "execution_count": 8,
      "outputs": [
        {
          "output_type": "stream",
          "text": [
            "CPU times: user 4.1 s, sys: 3.02 s, total: 7.13 s\n",
            "Wall time: 3.66 s\n"
          ],
          "name": "stdout"
        }
      ]
    },
    {
      "cell_type": "code",
      "metadata": {
        "id": "m9qn5hN5iJra",
        "outputId": "2c875639-e68a-4ae7-db41-409480cd2216",
        "colab": {
          "base_uri": "https://localhost:8080/",
          "height": 52
        }
      },
      "source": [
        "tc_rbig = tc_rbig_model.mutual_information * np.log(2)\n",
        "print(f\"TC (RBIG): {tc_rbig:.4f}\")\n",
        "print(f\"TC: {tc_original:.4f}\")"
      ],
      "execution_count": 9,
      "outputs": [
        {
          "output_type": "stream",
          "text": [
            "TC (RBIG): 9.9398\n",
            "TC: 9.9326\n"
          ],
          "name": "stdout"
        }
      ]
    },
    {
      "cell_type": "markdown",
      "metadata": {
        "id": "wRl0dowviJrf"
      },
      "source": [
        "---\n",
        "## Entropy"
      ]
    },
    {
      "cell_type": "markdown",
      "metadata": {
        "id": "P9cCP3T8iJrg"
      },
      "source": [
        "#### Sample Data"
      ]
    },
    {
      "cell_type": "code",
      "metadata": {
        "id": "tstb94_OiJrh"
      },
      "source": [
        "#Parameters\n",
        "n_samples = 5000\n",
        "d_dimensions = 10\n",
        "\n",
        "seed = 123\n",
        "\n",
        "rng = check_random_state(seed)\n",
        "\n",
        "# Generate random normal data\n",
        "data_original = rng.randn(n_samples, d_dimensions)\n",
        "\n",
        "# Generate random Data\n",
        "A = rng.rand(d_dimensions, d_dimensions)\n",
        "\n",
        "data = data_original @ A\n"
      ],
      "execution_count": 10,
      "outputs": []
    },
    {
      "cell_type": "markdown",
      "metadata": {
        "id": "8ic5WOBfiJrl"
      },
      "source": [
        "#### Calculate Entropy"
      ]
    },
    {
      "cell_type": "code",
      "metadata": {
        "id": "G-porJpEiJrm",
        "outputId": "495548d6-6069-4608-bb32-1fb1b2380489",
        "colab": {
          "base_uri": "https://localhost:8080/",
          "height": 34
        }
      },
      "source": [
        "Hx = entropy_marginal(data)\n",
        "\n",
        "H_original = Hx.sum() + np.log2(np.abs(np.linalg.det(A)))\n",
        "\n",
        "H_original *= np.log(2)\n",
        "\n",
        "print(f\"H: {H_original:.4f}\")"
      ],
      "execution_count": 11,
      "outputs": [
        {
          "output_type": "stream",
          "text": [
            "H: 16.4355\n"
          ],
          "name": "stdout"
        }
      ]
    },
    {
      "cell_type": "markdown",
      "metadata": {
        "id": "Ewn8hRVSiJrs"
      },
      "source": [
        "### Entropy RBIG"
      ]
    },
    {
      "cell_type": "code",
      "metadata": {
        "id": "q8VuhbERiJrt",
        "outputId": "269163f5-bb43-4505-a490-01d1e553e5a6",
        "colab": {
          "base_uri": "https://localhost:8080/",
          "height": 52
        }
      },
      "source": [
        "%%time \n",
        "n_layers = 10000\n",
        "rotation_type = 'PCA'\n",
        "random_state = 0\n",
        "zero_tolerance = 60\n",
        "pdf_extension = None\n",
        "pdf_resolution = None\n",
        "tolerance = None\n",
        "\n",
        "# Initialize RBIG class\n",
        "ent_rbig_model = RBIG(n_layers=n_layers, \n",
        "                  rotation_type=rotation_type, \n",
        "                  random_state=random_state, \n",
        "                  zero_tolerance=zero_tolerance,\n",
        "                  tolerance=tolerance)\n",
        "\n",
        "# fit model to the data\n",
        "ent_rbig_model.fit(data);"
      ],
      "execution_count": 12,
      "outputs": [
        {
          "output_type": "stream",
          "text": [
            "CPU times: user 3.29 s, sys: 2.31 s, total: 5.59 s\n",
            "Wall time: 2.84 s\n"
          ],
          "name": "stdout"
        }
      ]
    },
    {
      "cell_type": "code",
      "metadata": {
        "id": "IdFkXg1IiJrx",
        "outputId": "32740e75-c7d8-4c0c-b260-ad833d8c354d",
        "colab": {
          "base_uri": "https://localhost:8080/",
          "height": 52
        }
      },
      "source": [
        "H_rbig = ent_rbig_model.entropy(correction=True) * np.log(2)\n",
        "print(f\"Entropy (RBIG): {H_rbig:.4f}\")\n",
        "print(f\"Entropy: {H_original:.4f}\")"
      ],
      "execution_count": 13,
      "outputs": [
        {
          "output_type": "stream",
          "text": [
            "Entropy (RBIG): 10.6551\n",
            "Entropy: 16.4355\n"
          ],
          "name": "stdout"
        }
      ]
    },
    {
      "cell_type": "markdown",
      "metadata": {
        "id": "4kd478bYiJr1"
      },
      "source": [
        "---\n",
        "## Mutual Information"
      ]
    },
    {
      "cell_type": "markdown",
      "metadata": {
        "id": "2VgdjGJWiJr3"
      },
      "source": [
        "#### Sample Data"
      ]
    },
    {
      "cell_type": "code",
      "metadata": {
        "id": "CD1CvTqdiJr4"
      },
      "source": [
        "#Parameters\n",
        "n_samples = 10000\n",
        "d_dimensions = 10\n",
        "\n",
        "seed = 123\n",
        "\n",
        "rng = check_random_state(seed)\n",
        "\n",
        "# Generate random Data\n",
        "A = rng.rand(2 * d_dimensions, 2 * d_dimensions)\n",
        "\n",
        "# Covariance Matrix\n",
        "C = A @ A.T\n",
        "mu = np.zeros((2 * d_dimensions))\n",
        "\n",
        "dat_all = rng.multivariate_normal(mu, C, n_samples)\n",
        "\n",
        "CX = C[:d_dimensions, :d_dimensions]\n",
        "CY = C[d_dimensions:, d_dimensions:]\n",
        "\n",
        "X = dat_all[:, :d_dimensions]\n",
        "Y = dat_all[:, d_dimensions:]"
      ],
      "execution_count": 14,
      "outputs": []
    },
    {
      "cell_type": "markdown",
      "metadata": {
        "id": "U0q_lDvuiJr-"
      },
      "source": [
        "#### Calculate Mutual Information"
      ]
    },
    {
      "cell_type": "code",
      "metadata": {
        "id": "nZ_Reui3iJr_",
        "outputId": "61c7c888-056c-45c2-e4f7-b6ace9cf923e",
        "colab": {
          "base_uri": "https://localhost:8080/",
          "height": 34
        }
      },
      "source": [
        "H_X = 0.5 * np.log(2 * np.pi * np.exp(1) * np.abs(np.linalg.det(CX)))\n",
        "H_Y = 0.5 * np.log(2 * np.pi * np.exp(1) * np.abs(np.linalg.det(CY)))\n",
        "H = 0.5 * np.log(2 * np.pi * np.exp(1) * np.abs(np.linalg.det(C)))\n",
        "\n",
        "mi_original = H_X + H_Y - H\n",
        "mi_original *= np.log(2)\n",
        "\n",
        "print(f\"MI: {mi_original:.4f}\")"
      ],
      "execution_count": 15,
      "outputs": [
        {
          "output_type": "stream",
          "text": [
            "MI: 8.0713\n"
          ],
          "name": "stdout"
        }
      ]
    },
    {
      "cell_type": "markdown",
      "metadata": {
        "id": "X3Ej0EBTiJsD"
      },
      "source": [
        "### RBIG - Mutual Information"
      ]
    },
    {
      "cell_type": "code",
      "metadata": {
        "id": "NFGdBOJBiJsF",
        "outputId": "d0073c2e-ce61-48bf-ec8c-9e3ac59ccd92",
        "colab": {
          "base_uri": "https://localhost:8080/",
          "height": 52
        }
      },
      "source": [
        "%%time \n",
        "n_layers = 10000\n",
        "rotation_type = 'PCA'\n",
        "random_state = 0\n",
        "zero_tolerance = 60\n",
        "tolerance = None\n",
        "\n",
        "# Initialize RBIG class\n",
        "rbig_model = RBIGMI(n_layers=n_layers, \n",
        "                  rotation_type=rotation_type, \n",
        "                  random_state=random_state, \n",
        "                  zero_tolerance=zero_tolerance,\n",
        "                  tolerance=tolerance)\n",
        "\n",
        "# fit model to the data\n",
        "rbig_model.fit(X, Y);"
      ],
      "execution_count": 16,
      "outputs": [
        {
          "output_type": "stream",
          "text": [
            "CPU times: user 20.2 s, sys: 14 s, total: 34.2 s\n",
            "Wall time: 17.6 s\n"
          ],
          "name": "stdout"
        }
      ]
    },
    {
      "cell_type": "code",
      "metadata": {
        "id": "A3BjJ2rxiJsJ",
        "outputId": "22e6f06d-41bc-4975-a921-0b8cf34f25fd",
        "colab": {
          "base_uri": "https://localhost:8080/",
          "height": 52
        }
      },
      "source": [
        "mi_rbig = rbig_model.mutual_information() * np.log(2)\n",
        "\n",
        "print(f\"MI (RBIG): {mi_rbig:.4f}\")\n",
        "print(f\"MI: {mi_original:.4f}\")"
      ],
      "execution_count": 17,
      "outputs": [
        {
          "output_type": "stream",
          "text": [
            "MI (RBIG): 9.0014\n",
            "MI: 8.0713\n"
          ],
          "name": "stdout"
        }
      ]
    },
    {
      "cell_type": "markdown",
      "metadata": {
        "id": "YkC7_S33iJsO"
      },
      "source": [
        "---\n",
        "## Kullback-Leibler Divergence (KLD)"
      ]
    },
    {
      "cell_type": "markdown",
      "metadata": {
        "id": "0K2vW76ZiJsO"
      },
      "source": [
        "#### Sample Data"
      ]
    },
    {
      "cell_type": "code",
      "metadata": {
        "id": "VcUrsWv3iJsO"
      },
      "source": [
        "#Parameters\n",
        "n_samples = 10000\n",
        "d_dimensions = 10\n",
        "mu = 0.4          # how different the distributions are\n",
        "\n",
        "seed = 123\n",
        "\n",
        "rng = check_random_state(seed)\n",
        "\n",
        "# Generate random Data\n",
        "A = rng.rand(d_dimensions, d_dimensions)\n",
        "\n",
        "# covariance matrix\n",
        "cov = A @ A.T\n",
        "\n",
        "# Normalize cov mat\n",
        "cov = A / A.max()\n",
        "\n",
        "# create covariance matrices for x and y\n",
        "cov_x = np.eye(d_dimensions)\n",
        "cov_y = cov_x.copy()\n",
        "\n",
        "mu_x = np.zeros(d_dimensions) + mu\n",
        "mu_y = np.zeros(d_dimensions)\n",
        "\n",
        "# generate multivariate gaussian data\n",
        "X = rng.multivariate_normal(mu_x, cov_x, n_samples)\n",
        "Y = rng.multivariate_normal(mu_y, cov_y, n_samples)\n"
      ],
      "execution_count": 18,
      "outputs": []
    },
    {
      "cell_type": "markdown",
      "metadata": {
        "id": "P78c42KZiJsT"
      },
      "source": [
        "#### Calculate KLD"
      ]
    },
    {
      "cell_type": "code",
      "metadata": {
        "id": "p2t_4aQoiJsU",
        "outputId": "05b9087b-3cf2-4ca8-e5fa-a96a0ed2ccd4",
        "colab": {
          "base_uri": "https://localhost:8080/",
          "height": 34
        }
      },
      "source": [
        "kld_original = 0.5 * ((mu_y - mu_x) @ np.linalg.inv(cov_y) @ (mu_y - mu_x).T +\n",
        "                      np.trace(np.linalg.inv(cov_y) @ cov_x) -\n",
        "                      np.log(np.linalg.det(cov_x) / np.linalg.det(cov_y)) - d_dimensions)\n",
        "\n",
        "print(f'KLD: {kld_original:.4f}')"
      ],
      "execution_count": 19,
      "outputs": [
        {
          "output_type": "stream",
          "text": [
            "KLD: 0.8000\n"
          ],
          "name": "stdout"
        }
      ]
    },
    {
      "cell_type": "markdown",
      "metadata": {
        "id": "c53HIpqNiJsX"
      },
      "source": [
        "### RBIG - KLD"
      ]
    },
    {
      "cell_type": "code",
      "metadata": {
        "id": "txAV13-yiJsY",
        "outputId": "885cdbd7-0589-4c38-d80a-6b9b1c29ea95",
        "colab": {
          "base_uri": "https://localhost:8080/",
          "height": 34
        }
      },
      "source": [
        "X.min(), X.max()"
      ],
      "execution_count": 20,
      "outputs": [
        {
          "output_type": "execute_result",
          "data": {
            "text/plain": [
              "(-4.006934109277744, 4.585027222023813)"
            ]
          },
          "metadata": {
            "tags": []
          },
          "execution_count": 20
        }
      ]
    },
    {
      "cell_type": "code",
      "metadata": {
        "id": "_4E3syeUiJsd",
        "outputId": "6bfd6aeb-81eb-465a-9c88-db53898d8107",
        "colab": {
          "base_uri": "https://localhost:8080/",
          "height": 34
        }
      },
      "source": [
        "Y.min(), Y.max()"
      ],
      "execution_count": 21,
      "outputs": [
        {
          "output_type": "execute_result",
          "data": {
            "text/plain": [
              "(-4.607129910785054, 4.299322691460413)"
            ]
          },
          "metadata": {
            "tags": []
          },
          "execution_count": 21
        }
      ]
    },
    {
      "cell_type": "code",
      "metadata": {
        "id": "BfIYo2lqiJsh",
        "outputId": "f36cdd42-640c-4727-a8da-fa8644cdf29a",
        "colab": {
          "base_uri": "https://localhost:8080/",
          "height": 52
        }
      },
      "source": [
        "%%time\n",
        "\n",
        "n_layers = 100000\n",
        "rotation_type = 'PCA'\n",
        "random_state = 0\n",
        "zero_tolerance = 60\n",
        "tolerance = None\n",
        "pdf_extension = 10\n",
        "pdf_resolution = None\n",
        "verbose = 0\n",
        "\n",
        "# Initialize RBIG class\n",
        "kld_rbig_model = RBIGKLD(n_layers=n_layers, \n",
        "                  rotation_type=rotation_type, \n",
        "                  random_state=random_state, \n",
        "                  zero_tolerance=zero_tolerance,\n",
        "                  tolerance=tolerance,\n",
        "                     pdf_resolution=pdf_resolution,\n",
        "                    pdf_extension=pdf_extension,\n",
        "                    verbose=verbose)\n",
        "\n",
        "# fit model to the data\n",
        "kld_rbig_model.fit(X, Y);"
      ],
      "execution_count": 22,
      "outputs": [
        {
          "output_type": "stream",
          "text": [
            "CPU times: user 20.9 s, sys: 14.9 s, total: 35.8 s\n",
            "Wall time: 18.2 s\n"
          ],
          "name": "stdout"
        }
      ]
    },
    {
      "cell_type": "code",
      "metadata": {
        "id": "esI_Yls9iJsk",
        "outputId": "61b9d1c9-78c2-487c-c165-7f4b18d200c6",
        "colab": {
          "base_uri": "https://localhost:8080/",
          "height": 52
        }
      },
      "source": [
        "# Save KLD value to data structure\n",
        "kld_rbig= kld_rbig_model.kld*np.log(2)\n",
        "\n",
        "print(f'KLD (RBIG): {kld_rbig:.4f}')\n",
        "print(f'KLD: {kld_original:.4f}')"
      ],
      "execution_count": 23,
      "outputs": [
        {
          "output_type": "stream",
          "text": [
            "KLD (RBIG): 0.8357\n",
            "KLD: 0.8000\n"
          ],
          "name": "stdout"
        }
      ]
    },
    {
      "cell_type": "code",
      "metadata": {
        "id": "BpAqCmufiJso"
      },
      "source": [
        ""
      ],
      "execution_count": null,
      "outputs": []
    }
  ]
}