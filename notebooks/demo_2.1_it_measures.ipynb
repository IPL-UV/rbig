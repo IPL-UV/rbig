{
 "cells": [
  {
   "cell_type": "markdown",
   "metadata": {},
   "source": [
    "# Information Theory Measures w/ RBIG"
   ]
  },
  {
   "cell_type": "code",
   "execution_count": 101,
   "metadata": {},
   "outputs": [
    {
     "name": "stdout",
     "output_type": "stream",
     "text": [
      "The autoreload extension is already loaded. To reload it, use:\n",
      "  %reload_ext autoreload\n"
     ]
    }
   ],
   "source": [
    "import os, sys\n",
    "cwd = os.getcwd()\n",
    "sys.path.insert(0, f\"{cwd}/../\")\n",
    "\n",
    "from scipy import stats\n",
    "import numpy as np\n",
    "import warnings\n",
    "from time import time\n",
    "\n",
    "# IT Measures\n",
    "from rbig.information.entropy import Univariate, Multivariate, MarginalEntropy\n",
    "from rbig.information.mutual_information import MutualInformation, TotalCorrelation\n",
    "from rbig.rbig import RBIGKLD, RBIG, RBIGMI, entropy_marginal\n",
    "from sklearn.model_selection import train_test_split\n",
    "from sklearn.utils import check_random_state\n",
    "import matplotlib.pyplot as plt\n",
    "plt.style.use('ggplot')\n",
    "%matplotlib inline\n",
    "\n",
    "warnings.filterwarnings('ignore') # get rid of annoying warnings\n",
    "\n",
    "%load_ext autoreload\n",
    "%autoreload 2"
   ]
  },
  {
   "cell_type": "markdown",
   "metadata": {},
   "source": [
    "## Entropy - Univariate"
   ]
  },
  {
   "cell_type": "markdown",
   "metadata": {},
   "source": [
    "$$H(X)=-\\int_\\mathcal{X}f(x)\\log f(x)dx$$\n",
    "\n",
    "\n"
   ]
  },
  {
   "cell_type": "markdown",
   "metadata": {},
   "source": [
    "Differential entropy is not invariant under arbitrary transformations. But we can find the transformation like so:\n",
    "$$\n",
    "\\begin{aligned}\n",
    "H(ax) &= H(x) + \\log(a) \\\\\n",
    "H(Ax) &= H(x) + \\log |A|\n",
    "\\end{aligned}$$ "
   ]
  },
  {
   "cell_type": "markdown",
   "metadata": {},
   "source": [
    "### Gaussian Distribution (1D)"
   ]
  },
  {
   "cell_type": "code",
   "execution_count": 3,
   "metadata": {},
   "outputs": [
    {
     "name": "stdout",
     "output_type": "stream",
     "text": [
      "1.4189385332046727\n"
     ]
    }
   ],
   "source": [
    "#Parameters\n",
    "n_samples = 5000\n",
    "d_dimensions = 10\n",
    "\n",
    "seed = 123\n",
    "\n",
    "rng = check_random_state(seed)\n",
    "# Generate random normal data\n",
    "mu = 0\n",
    "sigma = 1\n",
    "seed = 123\n",
    "\n",
    "\n",
    "data_original = mu + sigma * rng.randn(n_samples, 1)\n",
    "\n",
    "H = (1/2) * np.log(2 * np.pi * np.e * sigma**2)\n",
    "\n",
    "print(H)"
   ]
  },
  {
   "cell_type": "code",
   "execution_count": 4,
   "metadata": {},
   "outputs": [
    {
     "name": "stdout",
     "output_type": "stream",
     "text": [
      "1.4189385332046727\n"
     ]
    }
   ],
   "source": [
    "# Generate random normal data\n",
    "mu = 0\n",
    "sigma = 1\n",
    "seed = 123\n",
    "\n",
    "norm_dist = stats.norm(loc=mu, scale=sigma)\n",
    "\n",
    "H = norm_dist.entropy()\n",
    "print(H)\n",
    "\n",
    "\n",
    "n_samples = 5_000\n",
    "\n",
    "X = norm_dist.rvs(size=n_samples, random_state=seed)"
   ]
  },
  {
   "cell_type": "markdown",
   "metadata": {},
   "source": [
    "#### Histogram Entropy"
   ]
  },
  {
   "cell_type": "code",
   "execution_count": 5,
   "metadata": {},
   "outputs": [
    {
     "name": "stdout",
     "output_type": "stream",
     "text": [
      "1.407400755509798\n"
     ]
    }
   ],
   "source": [
    "bins = 'auto'\n",
    "correction = True\n",
    "\n",
    "H = Univariate().histogram_entropy(X, bins, True)\n",
    "print(H)"
   ]
  },
  {
   "cell_type": "markdown",
   "metadata": {},
   "source": [
    "#### Kernel Density Estimation"
   ]
  },
  {
   "cell_type": "code",
   "execution_count": 6,
   "metadata": {},
   "outputs": [
    {
     "name": "stdout",
     "output_type": "stream",
     "text": [
      "1.4241976740334739\n"
     ]
    }
   ],
   "source": [
    "kernel = 'gau'\n",
    "bw = 'normal_reference'\n",
    "gridsize = 50\n",
    "adjust = 1\n",
    "cut = 3\n",
    "clip = (-np.inf, np.inf)\n",
    "\n",
    "H = Univariate().kde_entropy(X)\n",
    "\n",
    "print(H)"
   ]
  },
  {
   "cell_type": "markdown",
   "metadata": {},
   "source": [
    "#### K-Nearest Neighbors Estimator"
   ]
  },
  {
   "cell_type": "code",
   "execution_count": 7,
   "metadata": {},
   "outputs": [
    {
     "name": "stdout",
     "output_type": "stream",
     "text": [
      "1.4025038850034388\n"
     ]
    }
   ],
   "source": [
    "k = 20\n",
    "algorithm = 'auto'\n",
    "n_jobs = 1\n",
    "\n",
    "H = Univariate().knn_entropy(X[:, None], k=k, algorithm=algorithm, n_jobs=n_jobs)\n",
    "print(H)"
   ]
  },
  {
   "cell_type": "markdown",
   "metadata": {},
   "source": [
    "#### Parameters\n",
    "\n",
    "For k-Nearest Neighbors I have the following:\n",
    "\n",
    "* K-Neighbors\n",
    "\n",
    "Below we'll show a small experiment where we see how the number of neighbors affects our entropy calculation."
   ]
  },
  {
   "cell_type": "code",
   "execution_count": 8,
   "metadata": {},
   "outputs": [],
   "source": [
    "hs = list()\n",
    "\n",
    "for ik in np.linspace(5, 30, 25, endpoint=True, dtype=int):\n",
    "    \n",
    "    algorithm = 'auto'\n",
    "    n_jobs = 1\n",
    "\n",
    "    H = Univariate().knn_entropy(X[:, None], k=ik, algorithm=algorithm, n_jobs=n_jobs)\n",
    "    \n",
    "    hs.append(H)\n",
    "    "
   ]
  },
  {
   "cell_type": "code",
   "execution_count": 9,
   "metadata": {},
   "outputs": [
    {
     "data": {
      "text/plain": [
       "[<matplotlib.lines.Line2D at 0x7f0d292e7898>]"
      ]
     },
     "execution_count": 9,
     "metadata": {},
     "output_type": "execute_result"
    },
    {
     "data": {
      "image/png": "[encoded data removed]",
      "text/plain": [
       "<Figure size 432x288 with 1 Axes>"
      ]
     },
     "metadata": {
      "needs_background": "light"
     },
     "output_type": "display_data"
    }
   ],
   "source": [
    "plt.plot(hs)"
   ]
  },
  {
   "cell_type": "markdown",
   "metadata": {},
   "source": [
    "10 seems to be a good number for this 1D problem."
   ]
  },
  {
   "cell_type": "markdown",
   "metadata": {},
   "source": [
    "### Exponential Family"
   ]
  },
  {
   "cell_type": "code",
   "execution_count": null,
   "metadata": {},
   "outputs": [],
   "source": []
  },
  {
   "cell_type": "markdown",
   "metadata": {},
   "source": [
    "## Entropy - Multivariate"
   ]
  },
  {
   "cell_type": "markdown",
   "metadata": {},
   "source": [
    "### Gaussian (2D)"
   ]
  },
  {
   "cell_type": "code",
   "execution_count": 106,
   "metadata": {},
   "outputs": [
    {
     "name": "stdout",
     "output_type": "stream",
     "text": [
      "2.4508563931251146\n"
     ]
    },
    {
     "data": {
      "text/plain": [
       "(5000, 3)"
      ]
     },
     "execution_count": 106,
     "metadata": {},
     "output_type": "execute_result"
    }
   ],
   "source": [
    "# Generate random normal data\n",
    "mean = np.array([0, 1., 10])\n",
    "cov = np.array([0.3, 0.9, 0.1])\n",
    "seed = 123\n",
    "\n",
    "mvn_dist = stats.multivariate_normal(mean=mean, cov=cov, seed=seed)\n",
    "\n",
    "H = mvn_dist.entropy()\n",
    "print(H)\n",
    "\n",
    "\n",
    "n_samples = 5_000\n",
    "\n",
    "X = mvn_dist.rvs(size=n_samples, random_state=seed)\n",
    "\n",
    "X.shape"
   ]
  },
  {
   "cell_type": "markdown",
   "metadata": {},
   "source": [
    "#### Assume Gaussian"
   ]
  },
  {
   "cell_type": "code",
   "execution_count": 77,
   "metadata": {},
   "outputs": [
    {
     "name": "stdout",
     "output_type": "stream",
     "text": [
      "2.4508563931251146\n"
     ]
    }
   ],
   "source": [
    "mean = X.mean(axis=0)\n",
    "cov = np.cov(X.T)\n",
    "\n",
    "# assume it's a Gaussian\n",
    "X_norm = stats.multivariate_normal(mean=mean, cov=cov, seed=seed)\n",
    "\n",
    "H_gauss = X_norm.entropy()\n",
    "print(H)"
   ]
  },
  {
   "cell_type": "markdown",
   "metadata": {},
   "source": [
    "#### Assume Gaussian"
   ]
  },
  {
   "cell_type": "code",
   "execution_count": 78,
   "metadata": {},
   "outputs": [
    {
     "name": "stdout",
     "output_type": "stream",
     "text": [
      "2.4471819361480556\n"
     ]
    }
   ],
   "source": [
    "H_gauss = Multivariate().gaussian(X)\n",
    "\n",
    "print(H_gauss)"
   ]
  },
  {
   "cell_type": "markdown",
   "metadata": {},
   "source": [
    "#### Exponential Family"
   ]
  },
  {
   "cell_type": "code",
   "execution_count": 79,
   "metadata": {},
   "outputs": [
    {
     "name": "stdout",
     "output_type": "stream",
     "text": [
      "2.4471819361481266\n"
     ]
    }
   ],
   "source": [
    "H_expF = Multivariate().expF_entropy(X)\n",
    "\n",
    "np.testing.assert_allclose(H_gauss, H_expF)\n",
    "\n",
    "print(H_expF)"
   ]
  },
  {
   "cell_type": "markdown",
   "metadata": {},
   "source": [
    "#### K-NN"
   ]
  },
  {
   "cell_type": "code",
   "execution_count": 80,
   "metadata": {},
   "outputs": [
    {
     "name": "stdout",
     "output_type": "stream",
     "text": [
      "2.407725442833219\n"
     ]
    }
   ],
   "source": [
    "k = 20\n",
    "algorithm = 'auto'\n",
    "n_jobs = 1\n",
    "\n",
    "H = Multivariate().knn_entropy(X, k=k, algorithm=algorithm, n_jobs=n_jobs)\n",
    "print(H)"
   ]
  },
  {
   "cell_type": "code",
   "execution_count": 81,
   "metadata": {},
   "outputs": [
    {
     "data": {
      "text/plain": [
       "[<matplotlib.lines.Line2D at 0x7f0cbde1c5f8>]"
      ]
     },
     "execution_count": 81,
     "metadata": {},
     "output_type": "execute_result"
    },
    {
     "data": {
      "image/png": "[encoded data removed]",
      "text/plain": [
       "<Figure size 432x288 with 1 Axes>"
      ]
     },
     "metadata": {
      "needs_background": "light"
     },
     "output_type": "display_data"
    }
   ],
   "source": [
    "hs = list()\n",
    "\n",
    "for ik in np.linspace(5, 50, 45, endpoint=True, dtype=int):\n",
    "    \n",
    "    algorithm = 'auto'\n",
    "    n_jobs = 1\n",
    "\n",
    "    H = Multivariate().knn_entropy(X, k=ik, algorithm=algorithm, n_jobs=n_jobs)\n",
    "    \n",
    "    hs.append(H)\n",
    "plt.plot(hs)"
   ]
  },
  {
   "cell_type": "markdown",
   "metadata": {},
   "source": [
    "### Rotated Gaussian 2D"
   ]
  },
  {
   "cell_type": "code",
   "execution_count": 117,
   "metadata": {},
   "outputs": [
    {
     "name": "stdout",
     "output_type": "stream",
     "text": [
      "2.3955852776660604\n"
     ]
    }
   ],
   "source": [
    "A = rng.rand(X.shape[1], X.shape[1])\n",
    "\n",
    "Ax = X @ A\n",
    "\n",
    "# entropy of rotated distribution\n",
    "Hx = MarginalEntropy('gauss').entropy(X)\n",
    "\n",
    "H_A = np.log(np.abs(np.linalg.det(A)))\n",
    "H_Ax = Hx.sum() + H_A\n",
    "\n",
    "print(H)"
   ]
  },
  {
   "cell_type": "markdown",
   "metadata": {},
   "source": [
    "#### Assume Gaussian"
   ]
  },
  {
   "cell_type": "code",
   "execution_count": 118,
   "metadata": {},
   "outputs": [
    {
     "name": "stdout",
     "output_type": "stream",
     "text": [
      "-0.5753722853670853\n"
     ]
    }
   ],
   "source": [
    "H_gauss = Multivariate().gaussian(Ax)\n",
    "\n",
    "\n",
    "print(H_gauss)"
   ]
  },
  {
   "cell_type": "markdown",
   "metadata": {},
   "source": [
    "#### Exponential Family"
   ]
  },
  {
   "cell_type": "code",
   "execution_count": 119,
   "metadata": {},
   "outputs": [
    {
     "name": "stdout",
     "output_type": "stream",
     "text": [
      "-0.575372285366484\n"
     ]
    }
   ],
   "source": [
    "H_expF = Multivariate().expF_entropy(Ax)\n",
    "\n",
    "print(H_expF)"
   ]
  },
  {
   "cell_type": "markdown",
   "metadata": {},
   "source": [
    "#### K-Nearest Neighbors Estimator"
   ]
  },
  {
   "cell_type": "code",
   "execution_count": 120,
   "metadata": {},
   "outputs": [
    {
     "name": "stdout",
     "output_type": "stream",
     "text": [
      "2.407725442833219\n"
     ]
    }
   ],
   "source": [
    "k = 20\n",
    "algorithm = 'auto'\n",
    "n_jobs = 1\n",
    "\n",
    "H = Multivariate().knn_entropy(X, k=k, algorithm=algorithm, n_jobs=n_jobs)\n",
    "print(H)"
   ]
  },
  {
   "cell_type": "code",
   "execution_count": 121,
   "metadata": {},
   "outputs": [
    {
     "data": {
      "text/plain": [
       "[<matplotlib.lines.Line2D at 0x7f0cbd460128>]"
      ]
     },
     "execution_count": 121,
     "metadata": {},
     "output_type": "execute_result"
    },
    {
     "data": {
      "image/png": "[encoded data removed]",
      "text/plain": [
       "<Figure size 432x288 with 1 Axes>"
      ]
     },
     "metadata": {
      "needs_background": "light"
     },
     "output_type": "display_data"
    }
   ],
   "source": [
    "hs = list()\n",
    "\n",
    "for ik in np.linspace(5, 50, 45, endpoint=True, dtype=int):\n",
    "    \n",
    "    algorithm = 'auto'\n",
    "    n_jobs = 1\n",
    "\n",
    "    H = Multivariate().knn_entropy(X, k=ik, algorithm=algorithm, n_jobs=n_jobs)\n",
    "    \n",
    "    hs.append(H)\n",
    "plt.plot(hs)"
   ]
  },
  {
   "cell_type": "markdown",
   "metadata": {},
   "source": [
    "## Mutual Information (X,Y)"
   ]
  },
  {
   "cell_type": "markdown",
   "metadata": {},
   "source": [
    "### Gaussian Distribution (1D)"
   ]
  },
  {
   "cell_type": "code",
   "execution_count": 96,
   "metadata": {},
   "outputs": [],
   "source": [
    "#Parameters\n",
    "n_samples = 10000\n",
    "d_dimensions = 1\n",
    "\n",
    "seed = 123\n",
    "\n",
    "rng = check_random_state(seed)\n",
    "\n",
    "# Generate random Data\n",
    "A = rng.rand(2 * d_dimensions, 2 * d_dimensions)\n",
    "\n",
    "# Covariance Matrix\n",
    "C = A @ A.T\n",
    "mu = np.zeros((2 * d_dimensions))\n",
    "\n",
    "dat_all = rng.multivariate_normal(mu, C, n_samples)\n",
    "\n",
    "CX = C[:d_dimensions, :d_dimensions]\n",
    "CY = C[d_dimensions:, d_dimensions:]\n",
    "\n",
    "X = dat_all[:, :d_dimensions]\n",
    "Y = dat_all[:, d_dimensions:]"
   ]
  },
  {
   "cell_type": "code",
   "execution_count": 97,
   "metadata": {},
   "outputs": [
    {
     "name": "stdout",
     "output_type": "stream",
     "text": [
      "MI: 1.2202\n"
     ]
    }
   ],
   "source": [
    "H_X = 0.5 * np.log(2 * np.pi * np.exp(1) * np.abs(np.linalg.det(CX)))\n",
    "H_Y = 0.5 * np.log(2 * np.pi * np.exp(1) * np.abs(np.linalg.det(CY)))\n",
    "H = 0.5 * np.log(2 * np.pi * np.exp(1) * np.abs(np.linalg.det(C)))\n",
    "\n",
    "mi_original = H_X + H_Y - H\n",
    "mi_original *= np.log(2)\n",
    "\n",
    "print(f\"MI: {mi_original:.4f}\")"
   ]
  },
  {
   "cell_type": "markdown",
   "metadata": {},
   "source": [
    "#### K-Nearest Neighbors Estimator"
   ]
  },
  {
   "cell_type": "code",
   "execution_count": 98,
   "metadata": {},
   "outputs": [
    {
     "name": "stdout",
     "output_type": "stream",
     "text": [
      "Marginal: 1.1487551678194339\n",
      "Marginal: 0.8961816910448888\n",
      "Full: 1.6909694209301258\n",
      "0.3539674379341968\n"
     ]
    }
   ],
   "source": [
    "kwargs = {'n_neighbors': 10}\n",
    "mi = MutualInformation(\"knn\", kwargs).fit(X, Y)\n",
    "\n",
    "print(mi.MI)"
   ]
  },
  {
   "cell_type": "code",
   "execution_count": 80,
   "metadata": {},
   "outputs": [
    {
     "data": {
      "text/plain": [
       "(10000, 2)"
      ]
     },
     "execution_count": 80,
     "metadata": {},
     "output_type": "execute_result"
    }
   ],
   "source": [
    "np.hstack([X,Y]).shape"
   ]
  },
  {
   "cell_type": "code",
   "execution_count": 81,
   "metadata": {},
   "outputs": [
    {
     "name": "stdout",
     "output_type": "stream",
     "text": [
      "Full: 1.6909694209301258\n",
      "Marginal: 1.1487551678194339\n",
      "Marginal: 0.8961816910448888\n",
      "0.3539674379341968\n"
     ]
    }
   ],
   "source": [
    "kwargs = {'n_neighbors': 10}\n",
    "mi = TotalCorrelation(\"knn\", kwargs).fit(np.hstack([X,Y]))\n",
    "\n",
    "print(mi.MI)"
   ]
  },
  {
   "cell_type": "code",
   "execution_count": 77,
   "metadata": {},
   "outputs": [
    {
     "data": {
      "text/plain": [
       "0.3539677000000001"
      ]
     },
     "execution_count": 77,
     "metadata": {},
     "output_type": "execute_result"
    }
   ],
   "source": [
    "1.1487551 + 0.8961816 - 1.690969"
   ]
  },
  {
   "cell_type": "markdown",
   "metadata": {},
   "source": [
    "---\n",
    "## Total Correlation"
   ]
  },
  {
   "cell_type": "code",
   "execution_count": 2,
   "metadata": {},
   "outputs": [],
   "source": [
    "#Parameters\n",
    "n_samples = 10000\n",
    "d_dimensions = 10\n",
    "\n",
    "seed = 123\n",
    "\n",
    "rng = check_random_state(seed)"
   ]
  },
  {
   "cell_type": "markdown",
   "metadata": {},
   "source": [
    "#### Sample Data"
   ]
  },
  {
   "cell_type": "code",
   "execution_count": 3,
   "metadata": {},
   "outputs": [],
   "source": [
    "# Generate random normal data\n",
    "data_original = rng.randn(n_samples, d_dimensions)\n",
    "\n",
    "# Generate random Data\n",
    "A = rng.rand(d_dimensions, d_dimensions)\n",
    "\n",
    "data = data_original @ A\n",
    "\n",
    "# covariance matrix\n",
    "C = A.T @ A\n",
    "vv = np.diag(C)"
   ]
  },
  {
   "cell_type": "markdown",
   "metadata": {},
   "source": [
    "#### Calculate Total Correlation"
   ]
  },
  {
   "cell_type": "code",
   "execution_count": 4,
   "metadata": {},
   "outputs": [
    {
     "name": "stdout",
     "output_type": "stream",
     "text": [
      "TC: 9.9326\n"
     ]
    }
   ],
   "source": [
    "tc_original = np.log(np.sqrt(vv)).sum() - 0.5 * np.log(np.linalg.det(C))\n",
    "\n",
    "print(f\"TC: {tc_original:.4f}\")"
   ]
  },
  {
   "cell_type": "markdown",
   "metadata": {},
   "source": [
    "### RBIG - TC"
   ]
  },
  {
   "cell_type": "code",
   "execution_count": 5,
   "metadata": {},
   "outputs": [
    {
     "name": "stdout",
     "output_type": "stream",
     "text": [
      "CPU times: user 1min 19s, sys: 64.4 ms, total: 1min 19s\n",
      "Wall time: 3.01 s\n"
     ]
    }
   ],
   "source": [
    "%%time \n",
    "n_layers = 10000\n",
    "rotation_type = 'PCA'\n",
    "random_state = 0\n",
    "zero_tolerance = 60\n",
    "pdf_extension = 10\n",
    "pdf_resolution = None\n",
    "tolerance = None\n",
    "\n",
    "# Initialize RBIG class\n",
    "tc_rbig_model = RBIG(n_layers=n_layers, \n",
    "                  rotation_type=rotation_type, \n",
    "                  random_state=random_state, \n",
    "                  zero_tolerance=zero_tolerance,\n",
    "                  tolerance=tolerance,\n",
    "                  pdf_extension=pdf_extension,\n",
    "                  pdf_resolution=pdf_resolution)\n",
    "\n",
    "# fit model to the data\n",
    "tc_rbig_model.fit(data);"
   ]
  },
  {
   "cell_type": "code",
   "execution_count": 6,
   "metadata": {},
   "outputs": [
    {
     "name": "stdout",
     "output_type": "stream",
     "text": [
      "TC (RBIG): 9.9398\n",
      "TC: 9.9326\n"
     ]
    }
   ],
   "source": [
    "tc_rbig = tc_rbig_model.mutual_information * np.log(2)\n",
    "print(f\"TC (RBIG): {tc_rbig:.4f}\")\n",
    "print(f\"TC: {tc_original:.4f}\")"
   ]
  },
  {
   "cell_type": "markdown",
   "metadata": {},
   "source": [
    "---\n",
    "## Entropy"
   ]
  },
  {
   "cell_type": "markdown",
   "metadata": {},
   "source": [
    "#### Sample Data"
   ]
  },
  {
   "cell_type": "code",
   "execution_count": 7,
   "metadata": {},
   "outputs": [],
   "source": [
    "Hx = entropy_marginal(data)\n",
    "\n",
    "# nats\n",
    "H_original = Hx.sum() + np.linalg.slogdet(A)[1]\n",
    "\n",
    "# bits\n",
    "H_original *= np.log(2)\n",
    "\n",
    "print(f\"H: {H_original:.4f}\")"
   ]
  },
  {
   "cell_type": "markdown",
   "metadata": {},
   "source": [
    "#### Calculate Entropy"
   ]
  },
  {
   "cell_type": "code",
   "execution_count": 8,
   "metadata": {},
   "outputs": [
    {
     "name": "stdout",
     "output_type": "stream",
     "text": [
      "H: 16.4355\n"
     ]
    }
   ],
   "source": [
    "Hx = entropy_marginal(data)\n",
    "\n",
    "H_original = Hx.sum() + np.log2(np.abs(np.linalg.det(A)))\n",
    "\n",
    "H_original *= np.log(2)\n",
    "\n",
    "print(f\"H: {H_original:.4f}\")"
   ]
  },
  {
   "cell_type": "markdown",
   "metadata": {},
   "source": [
    "### Entropy RBIG"
   ]
  },
  {
   "cell_type": "code",
   "execution_count": 9,
   "metadata": {},
   "outputs": [
    {
     "name": "stdout",
     "output_type": "stream",
     "text": [
      "CPU times: user 53.1 s, sys: 9.81 ms, total: 53.1 s\n",
      "Wall time: 1.9 s\n"
     ]
    }
   ],
   "source": [
    "%%time \n",
    "n_layers = 10000\n",
    "rotation_type = 'PCA'\n",
    "random_state = 0\n",
    "zero_tolerance = 60\n",
    "pdf_extension = None\n",
    "pdf_resolution = None\n",
    "tolerance = None\n",
    "\n",
    "# Initialize RBIG class\n",
    "ent_rbig_model = RBIG(n_layers=n_layers, \n",
    "                  rotation_type=rotation_type, \n",
    "                  random_state=random_state, \n",
    "                  zero_tolerance=zero_tolerance,\n",
    "                  tolerance=tolerance)\n",
    "\n",
    "# fit model to the data\n",
    "ent_rbig_model.fit(data);"
   ]
  },
  {
   "cell_type": "code",
   "execution_count": 10,
   "metadata": {},
   "outputs": [
    {
     "name": "stdout",
     "output_type": "stream",
     "text": [
      "Entropy (RBIG): 10.6551\n",
      "Entropy: 16.4355\n"
     ]
    }
   ],
   "source": [
    "H_rbig = ent_rbig_model.entropy(correction=True) * np.log(2)\n",
    "print(f\"Entropy (RBIG): {H_rbig:.4f}\")\n",
    "print(f\"Entropy: {H_original:.4f}\")"
   ]
  },
  {
   "cell_type": "markdown",
   "metadata": {},
   "source": [
    "---\n",
    "## Mutual Information"
   ]
  },
  {
   "cell_type": "markdown",
   "metadata": {},
   "source": [
    "#### Sample Data"
   ]
  },
  {
   "cell_type": "code",
   "execution_count": 11,
   "metadata": {},
   "outputs": [],
   "source": [
    "#Parameters\n",
    "n_samples = 10000\n",
    "d_dimensions = 10\n",
    "\n",
    "seed = 123\n",
    "\n",
    "rng = check_random_state(seed)\n",
    "\n",
    "# Generate random Data\n",
    "A = rng.rand(2 * d_dimensions, 2 * d_dimensions)\n",
    "\n",
    "# Covariance Matrix\n",
    "C = A @ A.T\n",
    "mu = np.zeros((2 * d_dimensions))\n",
    "\n",
    "dat_all = rng.multivariate_normal(mu, C, n_samples)\n",
    "\n",
    "CX = C[:d_dimensions, :d_dimensions]\n",
    "CY = C[d_dimensions:, d_dimensions:]\n",
    "\n",
    "X = dat_all[:, :d_dimensions]\n",
    "Y = dat_all[:, d_dimensions:]"
   ]
  },
  {
   "cell_type": "markdown",
   "metadata": {},
   "source": [
    "#### Calculate Mutual Information"
   ]
  },
  {
   "cell_type": "code",
   "execution_count": 12,
   "metadata": {},
   "outputs": [
    {
     "name": "stdout",
     "output_type": "stream",
     "text": [
      "MI: 8.0713\n"
     ]
    }
   ],
   "source": [
    "H_X = 0.5 * np.log(2 * np.pi * np.exp(1) * np.abs(np.linalg.det(CX)))\n",
    "H_Y = 0.5 * np.log(2 * np.pi * np.exp(1) * np.abs(np.linalg.det(CY)))\n",
    "H = 0.5 * np.log(2 * np.pi * np.exp(1) * np.abs(np.linalg.det(C)))\n",
    "\n",
    "mi_original = H_X + H_Y - H\n",
    "mi_original *= np.log(2)\n",
    "\n",
    "print(f\"MI: {mi_original:.4f}\")"
   ]
  },
  {
   "cell_type": "markdown",
   "metadata": {},
   "source": [
    "### RBIG - Mutual Information"
   ]
  },
  {
   "cell_type": "code",
   "execution_count": 13,
   "metadata": {},
   "outputs": [
    {
     "name": "stdout",
     "output_type": "stream",
     "text": [
      "CPU times: user 5min 37s, sys: 103 ms, total: 5min 38s\n",
      "Wall time: 12.1 s\n"
     ]
    }
   ],
   "source": [
    "%%time \n",
    "n_layers = 10000\n",
    "rotation_type = 'PCA'\n",
    "random_state = 0\n",
    "zero_tolerance = 60\n",
    "tolerance = None\n",
    "\n",
    "# Initialize RBIG class\n",
    "rbig_model = RBIGMI(n_layers=n_layers, \n",
    "                  rotation_type=rotation_type, \n",
    "                  random_state=random_state, \n",
    "                  zero_tolerance=zero_tolerance,\n",
    "                  tolerance=tolerance)\n",
    "\n",
    "# fit model to the data\n",
    "rbig_model.fit(X, Y);"
   ]
  },
  {
   "cell_type": "code",
   "execution_count": 14,
   "metadata": {},
   "outputs": [
    {
     "name": "stdout",
     "output_type": "stream",
     "text": [
      "MI (RBIG): 9.0746\n",
      "MI: 8.0713\n"
     ]
    }
   ],
   "source": [
    "H_rbig = rbig_model.mutual_information() * np.log(2)\n",
    "\n",
    "print(f\"MI (RBIG): {H_rbig:.4f}\")\n",
    "print(f\"MI: {mi_original:.4f}\")"
   ]
  },
  {
   "cell_type": "markdown",
   "metadata": {},
   "source": [
    "---\n",
    "## Kullback-Leibler Divergence (KLD)"
   ]
  },
  {
   "cell_type": "markdown",
   "metadata": {},
   "source": [
    "#### Sample Data"
   ]
  },
  {
   "cell_type": "code",
   "execution_count": 15,
   "metadata": {},
   "outputs": [],
   "source": [
    "#Parameters\n",
    "n_samples = 10000\n",
    "d_dimensions = 10\n",
    "mu = 0.4          # how different the distributions are\n",
    "\n",
    "seed = 123\n",
    "\n",
    "rng = check_random_state(seed)\n",
    "\n",
    "# Generate random Data\n",
    "A = rng.rand(d_dimensions, d_dimensions)\n",
    "\n",
    "# covariance matrix\n",
    "cov = A @ A.T\n",
    "\n",
    "# Normalize cov mat\n",
    "cov = A / A.max()\n",
    "\n",
    "# create covariance matrices for x and y\n",
    "cov_x = np.eye(d_dimensions)\n",
    "cov_y = cov_x.copy()\n",
    "\n",
    "mu_x = np.zeros(d_dimensions) + mu\n",
    "mu_y = np.zeros(d_dimensions)\n",
    "\n",
    "# generate multivariate gaussian data\n",
    "X = rng.multivariate_normal(mu_x, cov_x, n_samples)\n",
    "Y = rng.multivariate_normal(mu_y, cov_y, n_samples)\n"
   ]
  },
  {
   "cell_type": "markdown",
   "metadata": {},
   "source": [
    "#### Calculate KLD"
   ]
  },
  {
   "cell_type": "code",
   "execution_count": 16,
   "metadata": {},
   "outputs": [
    {
     "name": "stdout",
     "output_type": "stream",
     "text": [
      "KLD: 0.8000\n"
     ]
    }
   ],
   "source": [
    "kld_original = 0.5 * ((mu_y - mu_x) @ np.linalg.inv(cov_y) @ (mu_y - mu_x).T +\n",
    "                      np.trace(np.linalg.inv(cov_y) @ cov_x) -\n",
    "                      np.log(np.linalg.det(cov_x) / np.linalg.det(cov_y)) - d_dimensions)\n",
    "\n",
    "print(f'KLD: {kld_original:.4f}')"
   ]
  },
  {
   "cell_type": "markdown",
   "metadata": {},
   "source": [
    "### RBIG - KLD"
   ]
  },
  {
   "cell_type": "code",
   "execution_count": 19,
   "metadata": {},
   "outputs": [
    {
     "data": {
      "text/plain": [
       "(-4.006934109277744, 4.585027222023813)"
      ]
     },
     "execution_count": 19,
     "metadata": {},
     "output_type": "execute_result"
    }
   ],
   "source": [
    "X.min(), X.max()"
   ]
  },
  {
   "cell_type": "code",
   "execution_count": 20,
   "metadata": {},
   "outputs": [
    {
     "data": {
      "text/plain": [
       "(-4.607129910785054, 4.299322691460413)"
      ]
     },
     "execution_count": 20,
     "metadata": {},
     "output_type": "execute_result"
    }
   ],
   "source": [
    "Y.min(), Y.max()"
   ]
  },
  {
   "cell_type": "code",
   "execution_count": 17,
   "metadata": {},
   "outputs": [
    {
     "name": "stdout",
     "output_type": "stream",
     "text": [
      "CPU times: user 5min 46s, sys: 10.9 ms, total: 5min 46s\n",
      "Wall time: 12.4 s\n"
     ]
    }
   ],
   "source": [
    "%%time\n",
    "\n",
    "n_layers = 100000\n",
    "rotation_type = 'PCA'\n",
    "random_state = 0\n",
    "zero_tolerance = 60\n",
    "tolerance = None\n",
    "pdf_extension = 10\n",
    "pdf_resolution = None\n",
    "verbose = 0\n",
    "\n",
    "# Initialize RBIG class\n",
    "kld_rbig_model = RBIGKLD(n_layers=n_layers, \n",
    "                  rotation_type=rotation_type, \n",
    "                  random_state=random_state, \n",
    "                  zero_tolerance=zero_tolerance,\n",
    "                  tolerance=tolerance,\n",
    "                     pdf_resolution=pdf_resolution,\n",
    "                    pdf_extension=pdf_extension,\n",
    "                    verbose=verbose)\n",
    "\n",
    "# fit model to the data\n",
    "kld_rbig_model.fit(X, Y);"
   ]
  },
  {
   "cell_type": "code",
   "execution_count": 18,
   "metadata": {},
   "outputs": [
    {
     "name": "stdout",
     "output_type": "stream",
     "text": [
      "KLD (RBIG): 0.8349\n",
      "KLD: 0.8000\n"
     ]
    }
   ],
   "source": [
    "# Save KLD value to data structure\n",
    "kld_rbig= kld_rbig_model.kld*np.log(2)\n",
    "\n",
    "print(f'KLD (RBIG): {kld_rbig:.4f}')\n",
    "print(f'KLD: {kld_original:.4f}')"
   ]
  },
  {
   "cell_type": "code",
   "execution_count": null,
   "metadata": {},
   "outputs": [],
   "source": []
  }
 ],
 "metadata": {
  "kernelspec": {
   "display_name": "Python [conda env:.conda-sci_py36]",
   "language": "python",
   "name": "conda-env-.conda-sci_py36-py"
  },
  "language_info": {
   "codemirror_mode": {
    "name": "ipython",
    "version": 3
   },
   "file_extension": ".py",
   "mimetype": "text/x-python",
   "name": "python",
   "nbconvert_exporter": "python",
   "pygments_lexer": "ipython3",
   "version": "3.6.9"
  }
 },
 "nbformat": 4,
 "nbformat_minor": 4
}
