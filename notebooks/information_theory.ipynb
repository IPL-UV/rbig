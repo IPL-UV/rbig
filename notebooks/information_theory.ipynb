{
 "cells": [
  {
   "cell_type": "markdown",
   "metadata": {},
   "source": [
    "# Information Theory Measures w/ RBIG"
   ]
  },
  {
   "cell_type": "code",
   "execution_count": 1,
   "metadata": {},
   "outputs": [],
   "source": [
    "import sys, os\n",
    "from pyprojroot import here\n",
    "\n",
    "# spyder up to find the root\n",
    "root = here(project_files=[\".here\"])\n",
    "\n",
    "# append to path\n",
    "sys.path.append(str(root))\n",
    "\n",
    "%load_ext autoreload\n",
    "%autoreload 2"
   ]
  },
  {
   "cell_type": "code",
   "execution_count": 2,
   "metadata": {},
   "outputs": [
    {
     "name": "stdout",
     "output_type": "stream",
     "text": [
      "The autoreload extension is already loaded. To reload it, use:\n",
      "  %reload_ext autoreload\n"
     ]
    }
   ],
   "source": [
    "import sys\n",
    "\n",
    "import numpy as np\n",
    "from sklearn.utils import check_random_state\n",
    "import matplotlib.pyplot as plt\n",
    "import corner\n",
    "\n",
    "%load_ext autoreload\n",
    "%autoreload 2"
   ]
  },
  {
   "cell_type": "markdown",
   "metadata": {},
   "source": [
    "---\n",
    "## Total Correlation"
   ]
  },
  {
   "cell_type": "code",
   "execution_count": 3,
   "metadata": {},
   "outputs": [],
   "source": [
    "#Parameters\n",
    "n_samples = 10000\n",
    "d_dimensions = 10\n",
    "\n",
    "seed = 123\n",
    "\n",
    "rng = check_random_state(seed)"
   ]
  },
  {
   "cell_type": "markdown",
   "metadata": {},
   "source": [
    "#### Sample Data"
   ]
  },
  {
   "cell_type": "code",
   "execution_count": 4,
   "metadata": {},
   "outputs": [],
   "source": [
    "# Generate random normal data\n",
    "data_original = rng.randn(n_samples, d_dimensions)\n",
    "\n",
    "# Generate random Data\n",
    "A = rng.rand(d_dimensions, d_dimensions)\n",
    "\n",
    "data = data_original @ A\n",
    "\n",
    "# covariance matrix\n",
    "C = A.T @ A\n",
    "vv = np.diag(C)"
   ]
  },
  {
   "cell_type": "markdown",
   "metadata": {},
   "source": [
    "#### Calculate Total Correlation"
   ]
  },
  {
   "cell_type": "code",
   "execution_count": 5,
   "metadata": {},
   "outputs": [
    {
     "name": "stdout",
     "output_type": "stream",
     "text": [
      "TC: 9.9326\n"
     ]
    }
   ],
   "source": [
    "tc_original = np.log(np.sqrt(vv)).sum() - 0.5 * np.log(np.linalg.det(C))\n",
    "\n",
    "print(f\"TC: {tc_original:.4f}\")"
   ]
  },
  {
   "cell_type": "markdown",
   "metadata": {},
   "source": [
    "### RBIG - TC"
   ]
  },
  {
   "cell_type": "code",
   "execution_count": 6,
   "metadata": {},
   "outputs": [],
   "source": [
    "from rbig._src.total_corr import rbig_total_corr"
   ]
  },
  {
   "cell_type": "code",
   "execution_count": 7,
   "metadata": {},
   "outputs": [
    {
     "name": "stderr",
     "output_type": "stream",
     "text": [
      "Completed! (Total Info Red: 9.9040):   3%|▎         | 31/1000 [00:02<01:16, 12.67it/s]\n"
     ]
    }
   ],
   "source": [
    "tc_rbig = rbig_total_corr(data, zero_tolerance=30)"
   ]
  },
  {
   "cell_type": "code",
   "execution_count": 8,
   "metadata": {},
   "outputs": [
    {
     "name": "stdout",
     "output_type": "stream",
     "text": [
      "TC (RBIG): 9.9040\n",
      "TC: 9.9326\n"
     ]
    }
   ],
   "source": [
    "print(f\"TC (RBIG): {tc_rbig:.4f}\")\n",
    "print(f\"TC: {tc_original:.4f}\")"
   ]
  },
  {
   "cell_type": "markdown",
   "metadata": {},
   "source": [
    "---\n",
    "\n",
    "## Entropy"
   ]
  },
  {
   "cell_type": "markdown",
   "metadata": {},
   "source": [
    "#### Sample Data"
   ]
  },
  {
   "cell_type": "code",
   "execution_count": 9,
   "metadata": {},
   "outputs": [],
   "source": [
    "#Parameters\n",
    "n_samples = 5000\n",
    "d_dimensions = 10\n",
    "\n",
    "seed = 123\n",
    "\n",
    "rng = check_random_state(seed)\n",
    "\n",
    "# Generate random normal data\n",
    "data_original = rng.randn(n_samples, d_dimensions)\n",
    "\n",
    "# Generate random Data\n",
    "A = rng.rand(d_dimensions, d_dimensions)\n",
    "\n",
    "data = data_original @ A\n"
   ]
  },
  {
   "cell_type": "markdown",
   "metadata": {},
   "source": [
    "#### Calculate Entropy"
   ]
  },
  {
   "cell_type": "code",
   "execution_count": 10,
   "metadata": {},
   "outputs": [],
   "source": [
    "from rbig._src.entropy import entropy_marginal"
   ]
  },
  {
   "cell_type": "code",
   "execution_count": 11,
   "metadata": {},
   "outputs": [
    {
     "name": "stdout",
     "output_type": "stream",
     "text": [
      "H: 16.4634\n"
     ]
    }
   ],
   "source": [
    "Hx = entropy_marginal(data)\n",
    "\n",
    "H_original = Hx.sum() + np.linalg.slogdet(A)[1]\n",
    "\n",
    "print(f\"H: {H_original:.4f}\")"
   ]
  },
  {
   "cell_type": "code",
   "execution_count": 12,
   "metadata": {},
   "outputs": [
    {
     "name": "stdout",
     "output_type": "stream",
     "text": [
      "H: 11.4116\n"
     ]
    }
   ],
   "source": [
    "print(f\"H: {H_original * np.log(2):.4f}\")"
   ]
  },
  {
   "cell_type": "markdown",
   "metadata": {},
   "source": [
    "### Entropy RBIG"
   ]
  },
  {
   "cell_type": "code",
   "execution_count": 14,
   "metadata": {},
   "outputs": [],
   "source": [
    "from rbig._src.entropy import entropy_rbig"
   ]
  },
  {
   "cell_type": "code",
   "execution_count": 16,
   "metadata": {},
   "outputs": [
    {
     "name": "stderr",
     "output_type": "stream",
     "text": [
      "Completed! (Total Info Red: 9.2054):   3%|▎         | 31/1000 [00:01<00:59, 16.29it/s]\n"
     ]
    }
   ],
   "source": [
    "H_rbig = entropy_rbig(data, zero_tolerance=30)"
   ]
  },
  {
   "cell_type": "code",
   "execution_count": 17,
   "metadata": {},
   "outputs": [
    {
     "name": "stdout",
     "output_type": "stream",
     "text": [
      "Entropy (RBIG): 10.7413\n",
      "Entropy: 16.4634\n"
     ]
    }
   ],
   "source": [
    "print(f\"Entropy (RBIG): {H_rbig:.4f}\")\n",
    "print(f\"Entropy: {H_original:.4f}\")"
   ]
  },
  {
   "cell_type": "markdown",
   "metadata": {},
   "source": [
    "---\n",
    "## Mutual Information"
   ]
  },
  {
   "cell_type": "markdown",
   "metadata": {},
   "source": [
    "#### Sample Data"
   ]
  },
  {
   "cell_type": "code",
   "execution_count": 18,
   "metadata": {},
   "outputs": [],
   "source": [
    "#Parameters\n",
    "n_samples = 10000\n",
    "d_dimensions = 10\n",
    "\n",
    "seed = 123\n",
    "\n",
    "rng = check_random_state(seed)\n",
    "\n",
    "# Generate random Data\n",
    "A = rng.rand(2 * d_dimensions, 2 * d_dimensions)\n",
    "\n",
    "# Covariance Matrix\n",
    "C = A @ A.T\n",
    "mu = np.zeros((2 * d_dimensions))\n",
    "\n",
    "dat_all = rng.multivariate_normal(mu, C, n_samples)\n",
    "\n",
    "CX = C[:d_dimensions, :d_dimensions]\n",
    "CY = C[d_dimensions:, d_dimensions:]\n",
    "\n",
    "X = dat_all[:, :d_dimensions]\n",
    "Y = dat_all[:, d_dimensions:]"
   ]
  },
  {
   "cell_type": "markdown",
   "metadata": {},
   "source": [
    "#### Calculate Mutual Information"
   ]
  },
  {
   "cell_type": "code",
   "execution_count": 30,
   "metadata": {},
   "outputs": [
    {
     "name": "stdout",
     "output_type": "stream",
     "text": [
      "MI: 11.6444\n"
     ]
    }
   ],
   "source": [
    "H_X = 0.5 * np.log(2 * np.pi * np.exp(1) *  np.abs(np.linalg.det(CX)))\n",
    "H_Y = 0.5 * np.log(2 * np.pi * np.exp(1) * np.abs(np.linalg.det(CY)))\n",
    "H = 0.5 * np.log(2 * np.pi * np.exp(1) * np.abs(np.linalg.det(C)))\n",
    "\n",
    "mi_original = H_X + H_Y - H\n",
    "mi_original #*= np.log(2)\n",
    "\n",
    "print(f\"MI: {mi_original:.4f}\")"
   ]
  },
  {
   "cell_type": "markdown",
   "metadata": {},
   "source": [
    "### RBIG - Mutual Information"
   ]
  },
  {
   "cell_type": "code",
   "execution_count": 22,
   "metadata": {},
   "outputs": [],
   "source": [
    "from rbig._src.mutual_info import MutualInfoRBIG"
   ]
  },
  {
   "cell_type": "code",
   "execution_count": 35,
   "metadata": {},
   "outputs": [
    {
     "name": "stderr",
     "output_type": "stream",
     "text": [
      "Completed! (Total Info Red: 6.9717):   1%|          | 11/1000 [00:00<01:21, 12.06it/s]\n",
      "Completed! (Total Info Red: 6.4171):   1%|          | 11/1000 [00:00<01:21, 12.13it/s]\n",
      "Completed! (Total Info Red: 9.5033):   1%|          | 11/1000 [00:01<02:41,  6.12it/s]\n"
     ]
    }
   ],
   "source": [
    "# Initialize RBIG class\n",
    "rbig_model = MutualInfoRBIG(zero_tolerance=10)\n",
    "\n",
    "# fit model to the data\n",
    "rbig_model.fit(X, Y);"
   ]
  },
  {
   "cell_type": "code",
   "execution_count": 36,
   "metadata": {},
   "outputs": [
    {
     "name": "stdout",
     "output_type": "stream",
     "text": [
      "MI (RBIG): 9.5033\n",
      "MI: 11.6444\n"
     ]
    }
   ],
   "source": [
    "H_rbig = rbig_model.mutual_info()\n",
    "\n",
    "print(f\"MI (RBIG): {H_rbig:.4f}\")\n",
    "print(f\"MI: {mi_original:.4f}\")"
   ]
  },
  {
   "cell_type": "code",
   "execution_count": 37,
   "metadata": {},
   "outputs": [
    {
     "name": "stdout",
     "output_type": "stream",
     "text": [
      "TC (X) (RBIG): 6.9717\n",
      "TC (Y) (RBIG): 6.4171\n",
      "TC (XY_t) (RBIG): 9.5033\n"
     ]
    }
   ],
   "source": [
    "print(f\"TC (X) (RBIG): {rbig_model.rbig_model_X.total_correlation():.4f}\")\n",
    "print(f\"TC (Y) (RBIG): {rbig_model.rbig_model_Y.total_correlation():.4f}\")\n",
    "print(f\"TC (XY_t) (RBIG): {rbig_model.rbig_model_XY.total_correlation():.4f}\")"
   ]
  },
  {
   "cell_type": "markdown",
   "metadata": {},
   "source": [
    "---\n",
    "## Kullback-Leibler Divergence (KLD)"
   ]
  },
  {
   "cell_type": "markdown",
   "metadata": {},
   "source": [
    "#### Sample Data"
   ]
  },
  {
   "cell_type": "code",
   "execution_count": 15,
   "metadata": {},
   "outputs": [],
   "source": [
    "#Parameters\n",
    "n_samples = 10000\n",
    "d_dimensions = 10\n",
    "mu = 0.4          # how different the distributions are\n",
    "\n",
    "seed = 123\n",
    "\n",
    "rng = check_random_state(seed)\n",
    "\n",
    "# Generate random Data\n",
    "A = rng.rand(d_dimensions, d_dimensions)\n",
    "\n",
    "# covariance matrix\n",
    "cov = A @ A.T\n",
    "\n",
    "# Normalize cov mat\n",
    "cov = A / A.max()\n",
    "\n",
    "# create covariance matrices for x and y\n",
    "cov_x = np.eye(d_dimensions)\n",
    "cov_y = cov_x.copy()\n",
    "\n",
    "mu_x = np.zeros(d_dimensions) + mu\n",
    "mu_y = np.zeros(d_dimensions)\n",
    "\n",
    "# generate multivariate gaussian data\n",
    "X = rng.multivariate_normal(mu_x, cov_x, n_samples)\n",
    "Y = rng.multivariate_normal(mu_y, cov_y, n_samples)\n"
   ]
  },
  {
   "cell_type": "markdown",
   "metadata": {},
   "source": [
    "#### Calculate KLD"
   ]
  },
  {
   "cell_type": "code",
   "execution_count": 16,
   "metadata": {},
   "outputs": [
    {
     "name": "stdout",
     "output_type": "stream",
     "text": [
      "KLD: 0.8000\n"
     ]
    }
   ],
   "source": [
    "kld_original = 0.5 * ((mu_y - mu_x) @ np.linalg.inv(cov_y) @ (mu_y - mu_x).T +\n",
    "                      np.trace(np.linalg.inv(cov_y) @ cov_x) -\n",
    "                      np.log(np.linalg.det(cov_x) / np.linalg.det(cov_y)) - d_dimensions)\n",
    "\n",
    "print(f'KLD: {kld_original:.4f}')"
   ]
  },
  {
   "cell_type": "markdown",
   "metadata": {},
   "source": [
    "### RBIG - KLD"
   ]
  },
  {
   "cell_type": "code",
   "execution_count": 19,
   "metadata": {},
   "outputs": [
    {
     "data": {
      "text/plain": [
       "(-4.006934109277744, 4.585027222023813)"
      ]
     },
     "execution_count": 19,
     "metadata": {},
     "output_type": "execute_result"
    }
   ],
   "source": [
    "X.min(), X.max()"
   ]
  },
  {
   "cell_type": "code",
   "execution_count": 20,
   "metadata": {},
   "outputs": [
    {
     "data": {
      "text/plain": [
       "(-4.607129910785054, 4.299322691460413)"
      ]
     },
     "execution_count": 20,
     "metadata": {},
     "output_type": "execute_result"
    }
   ],
   "source": [
    "Y.min(), Y.max()"
   ]
  },
  {
   "cell_type": "code",
   "execution_count": 17,
   "metadata": {},
   "outputs": [
    {
     "name": "stdout",
     "output_type": "stream",
     "text": [
      "CPU times: user 5min 46s, sys: 10.9 ms, total: 5min 46s\n",
      "Wall time: 12.4 s\n"
     ]
    }
   ],
   "source": [
    "%%time\n",
    "\n",
    "n_layers = 100000\n",
    "rotation_type = 'PCA'\n",
    "random_state = 0\n",
    "zero_tolerance = 60\n",
    "tolerance = None\n",
    "pdf_extension = 10\n",
    "pdf_resolution = None\n",
    "verbose = 0\n",
    "\n",
    "# Initialize RBIG class\n",
    "kld_rbig_model = RBIGKLD(n_layers=n_layers, \n",
    "                  rotation_type=rotation_type, \n",
    "                  random_state=random_state, \n",
    "                  zero_tolerance=zero_tolerance,\n",
    "                  tolerance=tolerance,\n",
    "                     pdf_resolution=pdf_resolution,\n",
    "                    pdf_extension=pdf_extension,\n",
    "                    verbose=verbose)\n",
    "\n",
    "# fit model to the data\n",
    "kld_rbig_model.fit(X, Y);"
   ]
  },
  {
   "cell_type": "code",
   "execution_count": 18,
   "metadata": {},
   "outputs": [
    {
     "name": "stdout",
     "output_type": "stream",
     "text": [
      "KLD (RBIG): 0.8349\n",
      "KLD: 0.8000\n"
     ]
    }
   ],
   "source": [
    "# Save KLD value to data structure\n",
    "kld_rbig= kld_rbig_model.kld*np.log(2)\n",
    "\n",
    "print(f'KLD (RBIG): {kld_rbig:.4f}')\n",
    "print(f'KLD: {kld_original:.4f}')"
   ]
  },
  {
   "cell_type": "code",
   "execution_count": null,
   "metadata": {},
   "outputs": [],
   "source": []
  }
 ],
 "metadata": {
  "interpreter": {
   "hash": "25d3d8d8af3031ad29ff404dd59d527de1053afe875f1a23df8e08872c14708a"
  },
  "kernelspec": {
   "display_name": "Python [conda env:.conda-rbig]",
   "language": "python",
   "name": "conda-env-.conda-rbig-py"
  },
  "language_info": {
   "codemirror_mode": {
    "name": "ipython",
    "version": 3
   },
   "file_extension": ".py",
   "mimetype": "text/x-python",
   "name": "python",
   "nbconvert_exporter": "python",
   "pygments_lexer": "ipython3",
   "version": "3.9.7"
  }
 },
 "nbformat": 4,
 "nbformat_minor": 4
}
