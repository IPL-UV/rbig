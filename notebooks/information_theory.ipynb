{
 "cells": [
  {
   "cell_type": "markdown",
   "metadata": {},
   "source": [
    "# Information Theory Measures w/ RBIG"
   ]
  },
  {
   "cell_type": "code",
   "execution_count": 1,
   "metadata": {},
   "outputs": [],
   "source": [
    "import sys\n",
    "\n",
    "# MacOS\n",
    "sys.path.insert(0, '/Users/eman/Documents/code_projects/rbig/')\n",
    "sys.path.insert(0, '/home/emmanuel/code/py_packages/py_rbig/src')\n",
    "\n",
    "# ERC server\n",
    "sys.path.insert(0, '/home/emmanuel/code/rbig/')\n",
    "\n",
    "\n",
    "import numpy as np\n",
    "import warnings\n",
    "from time import time\n",
    "from rbig.rbig import RBIGKLD\n",
    "from sklearn.model_selection import train_test_split\n",
    "from sklearn.utils import check_random_state\n",
    "import matplotlib.pyplot as plt\n",
    "plt.style.use('ggplot')\n",
    "%matplotlib inline\n",
    "\n",
    "warnings.filterwarnings('ignore') # get rid of annoying warnings\n",
    "\n",
    "%load_ext autoreload\n",
    "%autoreload 2"
   ]
  },
  {
   "cell_type": "markdown",
   "metadata": {},
   "source": [
    "## Kullback-Leibler Divergence (KLD)"
   ]
  },
  {
   "cell_type": "code",
   "execution_count": 18,
   "metadata": {},
   "outputs": [],
   "source": [
    "#Parameters\n",
    "n_samples = 10000\n",
    "d_dimensions = 10\n",
    "mu = 0.4          # how different the distributions are\n",
    "\n",
    "seed = 123\n",
    "\n",
    "rng = check_random_state(seed)"
   ]
  },
  {
   "cell_type": "markdown",
   "metadata": {},
   "source": [
    "### Sample Data"
   ]
  },
  {
   "cell_type": "code",
   "execution_count": 19,
   "metadata": {},
   "outputs": [],
   "source": [
    "# Generate random Data\n",
    "A = rng.rand(d_dimensions, d_dimensions)\n",
    "\n",
    "# covariance matrix\n",
    "cov = A @ A.T\n",
    "\n",
    "# Normalize cov mat\n",
    "cov = A / A.max()\n",
    "\n",
    "# create covariance matrices for x and y\n",
    "cov_x = np.eye(d_dimensions)\n",
    "cov_y = cov_x.copy()\n",
    "\n",
    "mu_x = np.zeros(d_dimensions) + mu\n",
    "mu_y = np.zeros(d_dimensions)\n",
    "\n",
    "# generate multivariate gaussian data\n",
    "X = rng.multivariate_normal(mu_x, cov_x, n_samples)\n",
    "Y = rng.multivariate_normal(mu_y, cov_y, n_samples)\n"
   ]
  },
  {
   "cell_type": "markdown",
   "metadata": {},
   "source": [
    "### KLD using Formula"
   ]
  },
  {
   "cell_type": "code",
   "execution_count": 20,
   "metadata": {},
   "outputs": [
    {
     "name": "stdout",
     "output_type": "stream",
     "text": [
      "KLD: 0.8000\n"
     ]
    }
   ],
   "source": [
    "kld_original = 0.5 * ((mu_y - mu_x) @ np.linalg.inv(cov_y) @ (mu_y - mu_x).T +\n",
    "                      np.trace(np.linalg.inv(cov_y) @ cov_x) -\n",
    "                      np.log(np.linalg.det(cov_x) / np.linalg.det(cov_y)) - d_dimensions)\n",
    "\n",
    "print(f'KLD: {kld_original:.4f}')"
   ]
  },
  {
   "cell_type": "markdown",
   "metadata": {},
   "source": [
    "### KLD Using RBIG"
   ]
  },
  {
   "cell_type": "code",
   "execution_count": 21,
   "metadata": {},
   "outputs": [
    {
     "name": "stdout",
     "output_type": "stream",
     "text": [
      "KLD (RBIG): 0.8319\n",
      "CPU times: user 4min 31s, sys: 1.97 ms, total: 4min 31s\n",
      "Wall time: 17 s\n"
     ]
    }
   ],
   "source": [
    "%%time\n",
    "\n",
    "n_layers = 100000\n",
    "rotation_type = 'PCA'\n",
    "random_state = 0\n",
    "zero_tolerance = 60\n",
    "tolerance = None\n",
    "pdf_extension = 10\n",
    "pdf_resolution = None\n",
    "verbose = 0\n",
    "\n",
    "# Initialize RBIG class\n",
    "rbig_model = RBIGKLD(n_layers=n_layers, \n",
    "                  rotation_type=rotation_type, \n",
    "                  random_state=random_state, \n",
    "                  zero_tolerance=zero_tolerance,\n",
    "                  tolerance=tolerance,\n",
    "                     pdf_resolution=pdf_resolution,\n",
    "                    pdf_extension=pdf_extension,\n",
    "                    verbose=verbose)\n",
    "\n",
    "# fit model to the data\n",
    "rbig_model.fit(X, Y);\n",
    "\n",
    "# Save KLD value to data structure\n",
    "kld_rbig= rbig_model.kld*np.log(2)\n",
    "\n",
    "print(f'KLD (RBIG): {kld_rbig:.4f}')"
   ]
  }
 ],
 "metadata": {
  "kernelspec": {
   "display_name": "Python 3",
   "language": "python",
   "name": "python3"
  },
  "language_info": {
   "codemirror_mode": {
    "name": "ipython",
    "version": 3
   },
   "file_extension": ".py",
   "mimetype": "text/x-python",
   "name": "python",
   "nbconvert_exporter": "python",
   "pygments_lexer": "ipython3",
   "version": "3.7.2"
  }
 },
 "nbformat": 4,
 "nbformat_minor": 2
}
