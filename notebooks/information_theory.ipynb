{
 "cells": [
  {
   "cell_type": "markdown",
   "metadata": {},
   "source": [
    "# Information Theory Measures w/ RBIG"
   ]
  },
  {
   "cell_type": "code",
   "execution_count": 20,
   "metadata": {},
   "outputs": [
    {
     "name": "stdout",
     "output_type": "stream",
     "text": [
      "The autoreload extension is already loaded. To reload it, use:\n",
      "  %reload_ext autoreload\n"
     ]
    }
   ],
   "source": [
    "import sys\n",
    "\n",
    "# # MacOS\n",
    "# sys.path.insert(0, '/Users/eman/Documents/code_projects/rbig/')\n",
    "# sys.path.insert(0, '/home/emmanuel/code/py_packages/py_rbig/src')\n",
    "\n",
    "# ERC server\n",
    "sys.path.insert(0, '../')\n",
    "\n",
    "\n",
    "import numpy as np\n",
    "import warnings\n",
    "from time import time\n",
    "from rbig.model import RBIG\n",
    "from rbig.information.total_corr import RBIGTotalCorr\n",
    "from rbig.information.mutual_info import RBIGMI\n",
    "from rbig.information.entropy import entropy_marginal\n",
    "from rbig.information.kld import RBIGKLD\n",
    "from sklearn.model_selection import train_test_split\n",
    "from sklearn.utils import check_random_state\n",
    "import matplotlib.pyplot as plt\n",
    "plt.style.use('ggplot')\n",
    "%matplotlib inline\n",
    "\n",
    "warnings.filterwarnings('ignore') # get rid of annoying warnings\n",
    "\n",
    "%load_ext autoreload\n",
    "%autoreload 2"
   ]
  },
  {
   "cell_type": "markdown",
   "metadata": {},
   "source": [
    "---\n",
    "## Total Correlation"
   ]
  },
  {
   "cell_type": "code",
   "execution_count": 21,
   "metadata": {},
   "outputs": [],
   "source": [
    "#Parameters\n",
    "n_samples = 10000\n",
    "d_dimensions = 10\n",
    "\n",
    "seed = 123\n",
    "\n",
    "rng = check_random_state(seed)"
   ]
  },
  {
   "cell_type": "markdown",
   "metadata": {},
   "source": [
    "#### Sample Data"
   ]
  },
  {
   "cell_type": "code",
   "execution_count": 22,
   "metadata": {},
   "outputs": [],
   "source": [
    "# Generate random normal data\n",
    "data_original = rng.randn(n_samples, d_dimensions)\n",
    "\n",
    "# Generate random Data\n",
    "A = rng.rand(d_dimensions, d_dimensions)\n",
    "\n",
    "data = data_original @ A\n",
    "\n",
    "# covariance matrix\n",
    "C = A.T @ A\n",
    "vv = np.diag(C)"
   ]
  },
  {
   "cell_type": "markdown",
   "metadata": {},
   "source": [
    "#### Calculate Total Correlation"
   ]
  },
  {
   "cell_type": "code",
   "execution_count": 23,
   "metadata": {},
   "outputs": [
    {
     "name": "stdout",
     "output_type": "stream",
     "text": [
      "TC: 9.9326\n"
     ]
    }
   ],
   "source": [
    "tc_original = np.log(np.sqrt(vv)).sum() - 0.5 * np.log(np.linalg.det(C))\n",
    "\n",
    "print(f\"TC: {tc_original:.4f}\")"
   ]
  },
  {
   "cell_type": "markdown",
   "metadata": {},
   "source": [
    "### RBIG - TC"
   ]
  },
  {
   "cell_type": "code",
   "execution_count": 24,
   "metadata": {},
   "outputs": [
    {
     "name": "stdout",
     "output_type": "stream",
     "text": [
      "CPU times: user 1min 28s, sys: 12.3 s, total: 1min 41s\n",
      "Wall time: 3.67 s\n"
     ]
    },
    {
     "data": {
      "text/plain": [
       "<rbig.information.total_corr.RBIGTotalCorr at 0x7f385c112a00>"
      ]
     },
     "execution_count": 24,
     "metadata": {},
     "output_type": "execute_result"
    }
   ],
   "source": [
    "%%time \n",
    "n_layers = 10000\n",
    "rotation_type = 'PCA'\n",
    "random_state = 0\n",
    "zero_tolerance = 60\n",
    "pdf_extension = 10\n",
    "pdf_resolution = None\n",
    "tolerance = None\n",
    "\n",
    "# Initialize RBIG class\n",
    "tc_rbig_model = RBIGTotalCorr(n_layers=n_layers, \n",
    "                  rotation_type=rotation_type, \n",
    "                  random_state=random_state, \n",
    "                  zero_tolerance=zero_tolerance,\n",
    "                  tolerance=tolerance,\n",
    "                  pdf_extension=pdf_extension,\n",
    "                  pdf_resolution=pdf_resolution)\n",
    "\n",
    "# fit model to the data\n",
    "tc_rbig_model.fit(data);"
   ]
  },
  {
   "cell_type": "code",
   "execution_count": 25,
   "metadata": {},
   "outputs": [
    {
     "data": {
      "text/plain": [
       "48"
      ]
     },
     "execution_count": 25,
     "metadata": {},
     "output_type": "execute_result"
    }
   ],
   "source": [
    "sys.getsizeof(tc_rbig_model)"
   ]
  },
  {
   "cell_type": "code",
   "execution_count": 26,
   "metadata": {},
   "outputs": [
    {
     "name": "stdout",
     "output_type": "stream",
     "text": [
      "TC (RBIG): 9.9398\n",
      "TC: 9.9326\n"
     ]
    }
   ],
   "source": [
    "tc_rbig = tc_rbig_model.mutual_information * np.log(2)\n",
    "print(f\"TC (RBIG): {tc_rbig:.4f}\")\n",
    "print(f\"TC: {tc_original:.4f}\")"
   ]
  },
  {
   "cell_type": "markdown",
   "metadata": {},
   "source": [
    "---\n",
    "## Entropy"
   ]
  },
  {
   "cell_type": "markdown",
   "metadata": {},
   "source": [
    "#### Sample Data"
   ]
  },
  {
   "cell_type": "code",
   "execution_count": 27,
   "metadata": {},
   "outputs": [],
   "source": [
    "#Parameters\n",
    "n_samples = 5000\n",
    "d_dimensions = 10\n",
    "\n",
    "seed = 123\n",
    "\n",
    "rng = check_random_state(seed)\n",
    "\n",
    "# Generate random normal data\n",
    "data_original = rng.randn(n_samples, d_dimensions)\n",
    "\n",
    "# Generate random Data\n",
    "A = rng.rand(d_dimensions, d_dimensions)\n",
    "\n",
    "data = data_original @ A\n"
   ]
  },
  {
   "cell_type": "markdown",
   "metadata": {},
   "source": [
    "#### Calculate Entropy"
   ]
  },
  {
   "cell_type": "code",
   "execution_count": 28,
   "metadata": {},
   "outputs": [
    {
     "name": "stdout",
     "output_type": "stream",
     "text": [
      "H: 16.4355\n"
     ]
    }
   ],
   "source": [
    "Hx = entropy_marginal(data)\n",
    "\n",
    "H_original = Hx.sum() + np.log2(np.abs(np.linalg.det(A)))\n",
    "\n",
    "H_original *= np.log(2)\n",
    "\n",
    "print(f\"H: {H_original:.4f}\")"
   ]
  },
  {
   "cell_type": "markdown",
   "metadata": {},
   "source": [
    "### Entropy RBIG"
   ]
  },
  {
   "cell_type": "code",
   "execution_count": 29,
   "metadata": {},
   "outputs": [
    {
     "name": "stdout",
     "output_type": "stream",
     "text": [
      "CPU times: user 1min 17s, sys: 11.1 s, total: 1min 28s\n",
      "Wall time: 3.18 s\n"
     ]
    },
    {
     "data": {
      "text/plain": [
       "<rbig.information.total_corr.RBIGTotalCorr at 0x7f385c223fa0>"
      ]
     },
     "execution_count": 29,
     "metadata": {},
     "output_type": "execute_result"
    }
   ],
   "source": [
    "%%time \n",
    "n_layers = 10000\n",
    "rotation_type = 'PCA'\n",
    "random_state = 0\n",
    "zero_tolerance = 60\n",
    "pdf_extension = None\n",
    "pdf_resolution = None\n",
    "tolerance = None\n",
    "\n",
    "# Initialize RBIG class\n",
    "ent_rbig_model = RBIGTotalCorr(n_layers=n_layers, \n",
    "                  rotation_type=rotation_type, \n",
    "                  random_state=random_state, \n",
    "                  zero_tolerance=zero_tolerance,\n",
    "                  tolerance=tolerance)\n",
    "\n",
    "# fit model to the data\n",
    "ent_rbig_model.fit(data);"
   ]
  },
  {
   "cell_type": "code",
   "execution_count": 30,
   "metadata": {},
   "outputs": [
    {
     "name": "stdout",
     "output_type": "stream",
     "text": [
      "Entropy (RBIG): 10.6551\n",
      "Entropy: 16.4355\n"
     ]
    }
   ],
   "source": [
    "H_rbig = ent_rbig_model.entropy(correction=True) * np.log(2)\n",
    "print(f\"Entropy (RBIG): {H_rbig:.4f}\")\n",
    "print(f\"Entropy: {H_original:.4f}\")"
   ]
  },
  {
   "cell_type": "markdown",
   "metadata": {},
   "source": [
    "---\n",
    "## Mutual Information"
   ]
  },
  {
   "cell_type": "markdown",
   "metadata": {},
   "source": [
    "#### Sample Data"
   ]
  },
  {
   "cell_type": "code",
   "execution_count": 31,
   "metadata": {},
   "outputs": [],
   "source": [
    "#Parameters\n",
    "n_samples = 10000\n",
    "d_dimensions = 10\n",
    "\n",
    "seed = 123\n",
    "\n",
    "rng = check_random_state(seed)\n",
    "\n",
    "# Generate random Data\n",
    "A = rng.rand(2 * d_dimensions, 2 * d_dimensions)\n",
    "\n",
    "# Covariance Matrix\n",
    "C = A @ A.T\n",
    "mu = np.zeros((2 * d_dimensions))\n",
    "\n",
    "dat_all = rng.multivariate_normal(mu, C, n_samples)\n",
    "\n",
    "CX = C[:d_dimensions, :d_dimensions]\n",
    "CY = C[d_dimensions:, d_dimensions:]\n",
    "\n",
    "X = dat_all[:, :d_dimensions]\n",
    "Y = dat_all[:, d_dimensions:]"
   ]
  },
  {
   "cell_type": "markdown",
   "metadata": {},
   "source": [
    "#### Calculate Mutual Information"
   ]
  },
  {
   "cell_type": "code",
   "execution_count": 32,
   "metadata": {},
   "outputs": [
    {
     "name": "stdout",
     "output_type": "stream",
     "text": [
      "MI: 8.0713\n"
     ]
    }
   ],
   "source": [
    "H_X = 0.5 * np.log(2 * np.pi * np.exp(1) * np.abs(np.linalg.det(CX)))\n",
    "H_Y = 0.5 * np.log(2 * np.pi * np.exp(1) * np.abs(np.linalg.det(CY)))\n",
    "H = 0.5 * np.log(2 * np.pi * np.exp(1) * np.abs(np.linalg.det(C)))\n",
    "\n",
    "mi_original = H_X + H_Y - H\n",
    "mi_original *= np.log(2)\n",
    "\n",
    "print(f\"MI: {mi_original:.4f}\")"
   ]
  },
  {
   "cell_type": "markdown",
   "metadata": {},
   "source": [
    "### RBIG - Mutual Information"
   ]
  },
  {
   "cell_type": "code",
   "execution_count": 33,
   "metadata": {},
   "outputs": [
    {
     "name": "stdout",
     "output_type": "stream",
     "text": [
      "CPU times: user 7min 33s, sys: 1min 4s, total: 8min 38s\n",
      "Wall time: 18.5 s\n"
     ]
    },
    {
     "data": {
      "text/plain": [
       "<rbig.information.mutual_info.RBIGMI at 0x7f385c11dbe0>"
      ]
     },
     "execution_count": 33,
     "metadata": {},
     "output_type": "execute_result"
    }
   ],
   "source": [
    "%%time \n",
    "n_layers = 10000\n",
    "rotation_type = 'PCA'\n",
    "random_state = 0\n",
    "zero_tolerance = 60\n",
    "tolerance = None\n",
    "\n",
    "# Initialize RBIG class\n",
    "rbig_model = RBIGMI(n_layers=n_layers, \n",
    "                  rotation_type=rotation_type, \n",
    "                  random_state=random_state, \n",
    "                  zero_tolerance=zero_tolerance,\n",
    "                  tolerance=tolerance)\n",
    "\n",
    "# fit model to the data\n",
    "rbig_model.fit(X, Y);"
   ]
  },
  {
   "cell_type": "code",
   "execution_count": 34,
   "metadata": {},
   "outputs": [
    {
     "name": "stdout",
     "output_type": "stream",
     "text": [
      "MI (RBIG): 9.0746\n",
      "MI: 8.0713\n"
     ]
    }
   ],
   "source": [
    "H_rbig = rbig_model.mutual_information() * np.log(2)\n",
    "\n",
    "print(f\"MI (RBIG): {H_rbig:.4f}\")\n",
    "print(f\"MI: {mi_original:.4f}\")"
   ]
  },
  {
   "cell_type": "markdown",
   "metadata": {},
   "source": [
    "---\n",
    "## Kullback-Leibler Divergence (KLD)"
   ]
  },
  {
   "cell_type": "markdown",
   "metadata": {},
   "source": [
    "#### Sample Data"
   ]
  },
  {
   "cell_type": "code",
   "execution_count": 35,
   "metadata": {},
   "outputs": [],
   "source": [
    "#Parameters\n",
    "n_samples = 10000\n",
    "d_dimensions = 10\n",
    "mu = 0.4          # how different the distributions are\n",
    "\n",
    "seed = 123\n",
    "\n",
    "rng = check_random_state(seed)\n",
    "\n",
    "# Generate random Data\n",
    "A = rng.rand(d_dimensions, d_dimensions)\n",
    "\n",
    "# covariance matrix\n",
    "cov = A @ A.T\n",
    "\n",
    "# Normalize cov mat\n",
    "cov = A / A.max()\n",
    "\n",
    "# create covariance matrices for x and y\n",
    "cov_x = np.eye(d_dimensions)\n",
    "cov_y = cov_x.copy()\n",
    "\n",
    "mu_x = np.zeros(d_dimensions) + mu\n",
    "mu_y = np.zeros(d_dimensions)\n",
    "\n",
    "# generate multivariate gaussian data\n",
    "X = rng.multivariate_normal(mu_x, cov_x, n_samples)\n",
    "Y = rng.multivariate_normal(mu_y, cov_y, n_samples)\n"
   ]
  },
  {
   "cell_type": "markdown",
   "metadata": {},
   "source": [
    "#### Calculate KLD"
   ]
  },
  {
   "cell_type": "code",
   "execution_count": 36,
   "metadata": {},
   "outputs": [
    {
     "name": "stdout",
     "output_type": "stream",
     "text": [
      "KLD: 0.8000\n"
     ]
    }
   ],
   "source": [
    "kld_original = 0.5 * ((mu_y - mu_x) @ np.linalg.inv(cov_y) @ (mu_y - mu_x).T +\n",
    "                      np.trace(np.linalg.inv(cov_y) @ cov_x) -\n",
    "                      np.log(np.linalg.det(cov_x) / np.linalg.det(cov_y)) - d_dimensions)\n",
    "\n",
    "print(f'KLD: {kld_original:.4f}')"
   ]
  },
  {
   "cell_type": "markdown",
   "metadata": {},
   "source": [
    "### RBIG - KLD"
   ]
  },
  {
   "cell_type": "code",
   "execution_count": 39,
   "metadata": {},
   "outputs": [
    {
     "name": "stdout",
     "output_type": "stream",
     "text": [
      "CPU times: user 7min 27s, sys: 1min 3s, total: 8min 31s\n",
      "Wall time: 18.4 s\n"
     ]
    },
    {
     "data": {
      "text/plain": [
       "<rbig.information.kld.RBIGKLD at 0x7f385c11d700>"
      ]
     },
     "execution_count": 39,
     "metadata": {},
     "output_type": "execute_result"
    }
   ],
   "source": [
    "%%time\n",
    "\n",
    "n_layers = 100000\n",
    "rotation_type = 'PCA'\n",
    "random_state = 0\n",
    "zero_tolerance = 60\n",
    "tolerance = None\n",
    "pdf_extension = 10\n",
    "pdf_resolution = None\n",
    "verbose = 0\n",
    "\n",
    "# Initialize RBIG class\n",
    "kld_rbig_model = RBIGKLD(n_layers=n_layers, \n",
    "                  rotation_type=rotation_type, \n",
    "                  random_state=random_state, \n",
    "                  zero_tolerance=zero_tolerance,\n",
    "                  tolerance=tolerance,\n",
    "                     pdf_resolution=pdf_resolution,\n",
    "                    pdf_extension=pdf_extension,\n",
    "                    verbose=verbose)\n",
    "\n",
    "# fit model to the data\n",
    "kld_rbig_model.fit(X, Y);"
   ]
  },
  {
   "cell_type": "code",
   "execution_count": 40,
   "metadata": {},
   "outputs": [
    {
     "name": "stdout",
     "output_type": "stream",
     "text": [
      "KLD (RBIG): 0.8349\n",
      "KLD: 0.8000\n"
     ]
    }
   ],
   "source": [
    "# Save KLD value to data structure\n",
    "kld_rbig= kld_rbig_model.kld*np.log(2)\n",
    "\n",
    "print(f'KLD (RBIG): {kld_rbig:.4f}')\n",
    "print(f'KLD: {kld_original:.4f}')"
   ]
  },
  {
   "cell_type": "code",
   "execution_count": null,
   "metadata": {},
   "outputs": [],
   "source": []
  }
 ],
 "metadata": {
  "kernelspec": {
   "display_name": "Python [conda env:.conda-rbig_dev]",
   "language": "python",
   "name": "conda-env-.conda-rbig_dev-py"
  },
  "language_info": {
   "codemirror_mode": {
    "name": "ipython",
    "version": 3
   },
   "file_extension": ".py",
   "mimetype": "text/x-python",
   "name": "python",
   "nbconvert_exporter": "python",
   "pygments_lexer": "ipython3",
   "version": "3.8.2"
  }
 },
 "nbformat": 4,
 "nbformat_minor": 4
}
