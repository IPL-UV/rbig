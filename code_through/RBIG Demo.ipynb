{
 "cells": [
  {
   "cell_type": "markdown",
   "metadata": {},
   "source": [
    "# RBIG Code Translation"
   ]
  },
  {
   "cell_type": "markdown",
   "metadata": {},
   "source": [
    "# Table of Contents\n",
    "\n",
    "1. [Algorithm Breakdowns](#functioncompare)\n",
    "    1. [norminv](#invnorm)\n",
    "    2. [histogram](#hist)\n",
    "2. [Algorithm Steps](#algos)\n",
    "\n",
    "    1. [rbig](#rbig)\n",
    "    2. [apply_rbig](#apply_rbig)\n",
    "    3. [inv_rbig](#inv_rbig)\n",
    "    4. [marginal_gaussianization](#marggaus)\n",
    "    5. [marginal_normalization](#margnorm)"
   ]
  },
  {
   "cell_type": "markdown",
   "metadata": {},
   "source": [
    "### Algorithm Steps"
   ]
  },
  {
   "cell_type": "markdown",
   "metadata": {},
   "source": [
    "1. Get sample data.\n",
    "\n",
    "##### 2. Get RBIG Transformation\n",
    "\n",
    "2. Get default parameters\n",
    "3. Get tolerance for m and n\n",
    "4. Iterate\n",
    "5. Perform marginal Gaussianization\n",
    "6. Rotate\n",
    "7. Multi-Information Reduction\n",
    "\n",
    "##### 3. Apply RBIG to data\n",
    "\n",
    "1. Compute Transform in groups od 500000\n",
    "2. Marginal Gaussianization\n",
    "3. Marginal Uniformization\n",
    "3. Do transformation\n",
    "\n",
    "##### 4. Invert Data\n",
    "\n",
    "1. Transform data\n",
    "2. Perform Inverse Gaussianization\n",
    "3. Inverse Marginal Uniformization"
   ]
  },
  {
   "cell_type": "markdown",
   "metadata": {},
   "source": [
    "#### Import Packages"
   ]
  },
  {
   "cell_type": "code",
   "execution_count": 1,
   "metadata": {
    "collapsed": true
   },
   "outputs": [],
   "source": [
    "import numpy as np\n",
    "import matplotlib.pyplot as plt\n",
    "%matplotlib inline\n",
    "\n",
    "from sklearn.utils import check_random_state"
   ]
  },
  {
   "cell_type": "markdown",
   "metadata": {},
   "source": [
    "#### Synthetic Data"
   ]
  },
  {
   "cell_type": "code",
   "execution_count": 2,
   "metadata": {
    "collapsed": true
   },
   "outputs": [],
   "source": [
    "num_points = 1000\n",
    "noise = 0.2\n",
    "random_state = 123\n",
    "\n",
    "generator = check_random_state(random_state)\n",
    "\n",
    "x_auxilary = generator.randn(1, num_points)\n",
    "\n",
    "x = np.cos(x_auxilary)\n",
    "x = np.vstack((x, np.sinc(x_auxilary)))\n",
    "\n",
    "x = x + noise * generator.rand(2, num_points)\n",
    "x = np.dot(np.array([[0.5, 0.5], [-0.5, 0.5]]), x).T"
   ]
  },
  {
   "cell_type": "code",
   "execution_count": 7,
   "metadata": {},
   "outputs": [
    {
     "name": "stdout",
     "output_type": "stream",
     "text": [
      "\n",
      "Size of x_auxilary:\n",
      " (1, 1000)\n",
      "\n",
      "Size of x:\n",
      " (1000, 2)\n",
      "\n",
      "X matrix of data: X: \n",
      " [[ 0.35383518 -0.26096163]\n",
      " [ 0.29121136 -0.28741346]\n",
      " [ 1.01739222  0.01277522]\n",
      " [ 0.05016715 -0.15425159]\n",
      " [ 0.80852538 -0.18760441]\n",
      " [ 0.01693714 -0.09318099]\n",
      " [-0.21155181  0.48186821]\n",
      " [ 0.87166265 -0.14748258]\n",
      " [ 0.07779465 -0.2517276 ]\n",
      " [ 0.52612833 -0.20856523]]\n"
     ]
    }
   ],
   "source": [
    "# print out debugging information\n",
    "print('\\nSize of x_auxilary:\\n', np.shape(x_auxilary))\n",
    "print('\\nSize of x:\\n', np.shape(x))\n",
    "print('\\nX matrix of data: X: \\n', x[:10])"
   ]
  },
  {
   "cell_type": "markdown",
   "metadata": {},
   "source": [
    "#### Plot Toy Data"
   ]
  },
  {
   "cell_type": "code",
   "execution_count": 8,
   "metadata": {},
   "outputs": [
    {
     "data": {
      "image/png": "[encoded data removed]",
      "text/plain": [
       "<matplotlib.figure.Figure at 0x7f16ceab75c0>"
      ]
     },
     "metadata": {},
     "output_type": "display_data"
    }
   ],
   "source": [
    "fig, ax = plt.subplots(figsize=(10, 8))\n",
    "\n",
    "ax.scatter(x[:,0], x[:,1], s=10, c='k', label='Toy Data')\n",
    "ax.set_title('Toy Data: Raw')\n",
    "\n",
    "plt.show()"
   ]
  },
  {
   "cell_type": "markdown",
   "metadata": {},
   "source": [
    "#### Important Parameters"
   ]
  },
  {
   "cell_type": "markdown",
   "metadata": {},
   "source": [
    "* precision (default = 1000) \n",
    "    + Number of points for the marginal PDF estimation\n",
    "* porc (default = 10)\n",
    "    + extra domain percentage\n",
    "* transformation (default = 'PCA')\n",
    "    + linear transformation applied (options - ICA, PCA, RND)\n",
    "* num_layers (default = 1000\n",
    "    + number of layers\n",
    "* tolerance_samples\n",
    "* tolerance_dimensions"
   ]
  },
  {
   "cell_type": "code",
   "execution_count": 11,
   "metadata": {
    "collapsed": true
   },
   "outputs": [],
   "source": [
    "precision = 1000\n",
    "domain_prnt = 10\n",
    "transformation = 'pca'\n",
    "num_layers = 1000\n",
    "\n",
    "# get size of the X data\n",
    "n_samples, dimensions  = x.shape"
   ]
  },
  {
   "cell_type": "code",
   "execution_count": 12,
   "metadata": {},
   "outputs": [
    {
     "name": "stdout",
     "output_type": "stream",
     "text": [
      "Number of dimensions: 2\n",
      "Number of samples: 1000\n"
     ]
    }
   ],
   "source": [
    "print('Number of dimensions:', dimensions)\n",
    "print('Number of samples:', n_samples)"
   ]
  },
  {
   "cell_type": "markdown",
   "metadata": {},
   "source": [
    "#### Estimation of Histogram"
   ]
  },
  {
   "cell_type": "markdown",
   "metadata": {},
   "source": [
    "**MATLAB** Function\n",
    "\n",
    "* Inputs\n",
    "    + x - vector\n",
    "    + nbins - \n",
    "* Outputs\n",
    "    + counts -\n",
    "    + centers - "
   ]
  },
  {
   "cell_type": "markdown",
   "metadata": {},
   "source": [
    "### Tolerance (Samples, Dimensions)"
   ]
  },
  {
   "cell_type": "code",
   "execution_count": 14,
   "metadata": {},
   "outputs": [
    {
     "name": "stdout",
     "output_type": "stream",
     "text": [
      "Size of counts:  (32,)\n",
      "Size of centers:  (32,)\n"
     ]
    }
   ],
   "source": [
    "[counts, centers] = np.histogram(a=np.random.randn(1, np.round(n_samples)), bins=np.int(np.round(np.sqrt(n_samples))))\n",
    "centers = centers[:-1] + np.diff(centers)/2\n",
    "print('Size of counts: ', np.shape(counts))\n",
    "print('Size of centers: ', np.shape(centers))"
   ]
  },
  {
   "cell_type": "code",
   "execution_count": 21,
   "metadata": {},
   "outputs": [
    {
     "name": "stdout",
     "output_type": "stream",
     "text": [
      "Tolerance Samples:  0.00151974400752\n",
      "Tolerance Dimensions:  0.103383390898\n"
     ]
    }
   ],
   "source": [
    "n_errors = 1000\n",
    "ee = np.zeros(n_errors)\n",
    "\n",
    "for rep in np.arange(0,n_errors):\n",
    "    \n",
    "    # HX\n",
    "    [counts, centers] = np.histogram(a=generator.randn(1, np.round(n_samples)),\n",
    "                                     bins=np.int(np.round(np.sqrt(n_samples))))\n",
    "    \n",
    "    delta = centers[1]-centers[0]\n",
    "    \n",
    "    constant = 0.5 * (np.sum(counts[counts > 0]) - 1) / np.sum(counts)\n",
    "    counts = counts / np.sum(counts)\n",
    "    hx = -np.sum(counts[counts != 0] * np.log(counts[counts!=0])) + constant\n",
    "    \n",
    "    # HY\n",
    "    [counts, centers] = np.histogram(a=generator.randn(1, np.round(n_samples)),\n",
    "                                     bins=np.int(np.round(np.sqrt(n_samples))))\n",
    "    delta = centers[1]-centers[0]\n",
    "    \n",
    "    constant = 0.5 * (np.sum(counts[counts > 0]) - 1) / np.sum(counts)\n",
    "    counts = counts / np.sum(counts)\n",
    "    hy = -np.sum(counts[counts != 0]  * np.log(counts[counts!=0])) + constant\n",
    "    \n",
    "    ee[rep] = hy - hx\n",
    "    \n",
    "tol_samples = np.mean(ee)\n",
    "tol_dimensions = np.std(ee)\n",
    "\n",
    "print('Tolerance Samples: ', tol_samples)\n",
    "print('Tolerance Dimensions: ', tol_dimensions)"
   ]
  },
  {
   "cell_type": "code",
   "execution_count": 22,
   "metadata": {
    "collapsed": true
   },
   "outputs": [],
   "source": [
    "def entropy(counts):\n",
    "    constant = 0.5 * (np.sum(counts[counts > 0]) - 1) / np.sum(counts)\n",
    "    print(constant)\n",
    "    hist_counts = counts / np.sum(counts)\n",
    "    idx = np.where(hist_counts != 0)\n",
    "    H = -np.sum(hist_counts[hist_counts != 0])  * np.log(hist_counts[hist_counts!=0]) + constant"
   ]
  },
  {
   "cell_type": "code",
   "execution_count": 28,
   "metadata": {},
   "outputs": [
    {
     "name": "stdout",
     "output_type": "stream",
     "text": [
      "0.34245549952\n"
     ]
    },
    {
     "name": "stderr",
     "output_type": "stream",
     "text": [
      "/home/emmanuel/anaconda3/envs/py36/lib/python3.6/site-packages/ipykernel_launcher.py:7: DeprecationWarning: object of type <class 'numpy.float64'> cannot be safely interpreted as an integer.\n",
      "  import sys\n"
     ]
    }
   ],
   "source": [
    "del R\n",
    "for ilayer in np.arange(0, 1):\n",
    "    \n",
    "    for idim in np.arange(0, 1):\n",
    "        \n",
    "        temp1, temp2 = "
   ]
  },
  {
   "cell_type": "code",
   "execution_count": null,
   "metadata": {
    "collapsed": true
   },
   "outputs": [],
   "source": []
  },
  {
   "cell_type": "code",
   "execution_count": null,
   "metadata": {
    "collapsed": true
   },
   "outputs": [],
   "source": []
  },
  {
   "cell_type": "markdown",
   "metadata": {},
   "source": [
    "### Marginal Gaussianization"
   ]
  },
  {
   "cell_type": "code",
   "execution_count": 46,
   "metadata": {
    "collapsed": true
   },
   "outputs": [],
   "source": [
    "from scipy.stats import invgauss\n",
    "from scipy.interpolate import interp1d\n",
    "\n",
    "\n",
    "def marginal_guassianization(x, domain_percentage=10, precision=1000):\n",
    "    \n",
    "    [X_uniform, T] = marginal_uniformization(X, domain_percentage=domain_percentage,\n",
    "                                             precision=precision)\n",
    "    \n",
    "    X_gauss = invgauss.cdf(X_uniform, 0)\n",
    "    \n",
    "    return X_gauss, T"
   ]
  },
  {
   "cell_type": "markdown",
   "metadata": {},
   "source": [
    "### Marginal Uniformization"
   ]
  },
  {
   "cell_type": "code",
   "execution_count": 23,
   "metadata": {
    "collapsed": true
   },
   "outputs": [],
   "source": [
    "def marginal_uniformization(x, domain_percentage=10, precision=1000):\n",
    "    \n",
    "    p_aux = (domain_percentage/100) * np.abs(x.max() - x.min())\n",
    "    R_aux = np.linspace(x.min(), x.max(), num=2 * np.sqrt(np.len(x))+1)\n",
    "    R = np.mean(np.array([[R_aux[:-1]], [R_aux[1:]]]))\n",
    "    \n",
    "    [p, R] = np.histogram(a=x, bins=R)\n",
    "    \n",
    "    R_delta = R[2]-R[1]\n",
    "    T.R_ant = np.array([R[0]-R_delta, R, R[-1]+R_delta])\n",
    "    T.p_ant = np.array([0, p / (np.sum(p) * (R[3]-R[2])), 0])\n",
    "    \n",
    "    C = np.array([np.cumsum(p)])\n",
    "    N = C.max()\n",
    "    \n",
    "    R_incr = (R[1]-R[0])/2\n",
    "    \n",
    "    R = np.array([x.min()-p_aux, x.min(), R[:-1]+R_incr, x.max(), p_aux+R_incr])\n",
    "    C = np.array([0, 1/N, C, 1])\n",
    "    \n",
    "    Range_2 = np.linspace(R[0], R[-1], num=precision)\n",
    "    set_interp = interp1d(R, C, kind='linear')\n",
    "    C_2 = made_monotonic(set_interp(Range_2))\n",
    "    C_2 = C_2/C_2.max()\n",
    "    x_lin = interp1(Range_2, C, x)\n",
    "    \n",
    "    T.C = C_2\n",
    "    T.R = Range_2\n",
    "    \n",
    "    return X_lin, T"
   ]
  },
  {
   "cell_type": "markdown",
   "metadata": {},
   "source": [
    "#### Make Monotonic"
   ]
  },
  {
   "cell_type": "code",
   "execution_count": 24,
   "metadata": {
    "collapsed": true
   },
   "outputs": [],
   "source": [
    "def make_monotonic(f):\n",
    "    \n",
    "    fn = f\n",
    "    for nn in arange(2,len(fn)):\n",
    "            if fn[n] <= fn[nn-1]:\n",
    "                if abs(fn[nn-1]) > 1e-14:\n",
    "                    fn[nn] = fn[nn-1] + 1.0e-14\n",
    "                elif fn[nn-1] == 0:\n",
    "                    fn[nn] = 1e-80\n",
    "                else:\n",
    "                    fn[nn] == fn[nn-1] + 10**(np.log(abs(fn[nn-1])))\n",
    "    \n",
    "    return fn"
   ]
  },
  {
   "cell_type": "markdown",
   "metadata": {},
   "source": [
    "### Rotation"
   ]
  },
  {
   "cell_type": "code",
   "execution_count": null,
   "metadata": {
    "collapsed": true
   },
   "outputs": [],
   "source": []
  },
  {
   "cell_type": "markdown",
   "metadata": {},
   "source": [
    "### Multi-Information Reduction"
   ]
  },
  {
   "cell_type": "markdown",
   "metadata": {},
   "source": [
    "[DIM,Nsamples] = size(X);\n",
    "\n",
    "for n=1:DIM\n",
    "    [p R]=hist(X(n,:),sqrt(Nsamples));\n",
    "    delta = R(3)-R(2);\n",
    "    hx(n)=entropy_mm(p)+log2(delta);\n",
    "\n",
    "    [p R]=hist(Y(n,:),sqrt(Nsamples));\n",
    "    delta = R(3)-R(2);\n",
    "    hy(n)=entropy_mm(p)+log2(delta);\n",
    "end\n",
    "\n",
    "I = sum(hy) - sum(hx);\n",
    "II = sqrt(sum((hy - hx).^2));\n",
    "p = 0.25;\n",
    "if abs(II)<sqrt(DIM*((p*tol_d.^2)))\n",
    "    I=0;\n",
    "end\n",
    "\n",
    "#####\n",
    "\n",
    "for rep=1:1000\n",
    "    [p R] = hist(randn(1,round(Nsamples)),round(sqrt(Nsamples)));\n",
    "    delta = R(3)-R(2);\n",
    "    hx = entropy_mm(p)+log2(delta);\n",
    "\n",
    "    [p R] = hist(randn(1,round(Nsamples)),round(sqrt(Nsamples)));\n",
    "    delta = R(3)-R(2);\n",
    "    hy = entropy_mm(p)+log2(delta);\n",
    "    ee(rep) = hy - hx;\n",
    "end\n",
    "    \n",
    "######\n",
    "\n",
    "[counts, centers] = np.histogram(a=np.random.randn(1, np.round(n_samples)),\n",
    "                                 bins=np.int(np.round(np.sqrt(n_samples))))\n",
    "\n",
    "delta = centers[1]-centers[0]\n",
    "\n",
    "constant = 0.5 * (np.sum(counts[counts > 0]) - 1) / np.sum(counts)\n",
    "counts = counts / np.sum(counts)\n",
    "hx = -np.sum(counts[counts != 0] * np.log(counts[counts!=0])) + constant\n",
    "hx += delta"
   ]
  },
  {
   "cell_type": "code",
   "execution_count": 47,
   "metadata": {},
   "outputs": [
    {
     "ename": "SyntaxError",
     "evalue": "positional argument follows keyword argument (<ipython-input-47-b501b1e03632>, line 10)",
     "output_type": "error",
     "traceback": [
      "\u001b[0;36m  File \u001b[0;32m\"<ipython-input-47-b501b1e03632>\"\u001b[0;36m, line \u001b[0;32m10\u001b[0m\n\u001b[0;31m    [p, R] = np.histogram(a=X[n,:], np.sqrt(n_samples))\u001b[0m\n\u001b[0m                                   ^\u001b[0m\n\u001b[0;31mSyntaxError\u001b[0m\u001b[0;31m:\u001b[0m positional argument follows keyword argument\n"
     ]
    }
   ],
   "source": [
    "def information_reduction(X, Y, tol_m, tol_d, random_state=None):\n",
    "    \n",
    "    generator = check_random_state(random_state)\n",
    "    dimensions, n_samples = X.shape\n",
    "    \n",
    "    hx = np.zeros(n)\n",
    "    for n in np.arange(0, dimensions):\n",
    "        \n",
    "        # calculate entropy in X direction\n",
    "        [p, R] = np.histogram(a=X[n,:], np.sqrt(n_samples))\n",
    "        delta = R[2] - R[1]\n",
    "        hx[n] = entropy(p) + np.log(delta)\n",
    "        \n",
    "        # calculate entropy in Y direction\n",
    "        [p, R] = np.histogram(a=Y[n,:], np.sqrt(n_samples))\n",
    "        delta = R[2] - R[1]\n",
    "        hy[n]\n",
    "        \n",
    "    I = np.sum(hy) - np.sum(hx)\n",
    "    II = np.sqrt(np.sum((hy-hx)**2))\n",
    "    p = 0.25\n",
    "    \n",
    "    if np.abs(II) < np.sqrt(dimensions * p * tol_d ** 2):\n",
    "        I = 0\n",
    "        \n",
    "    return I"
   ]
  },
  {
   "cell_type": "markdown",
   "metadata": {},
   "source": [
    "## 2. Function Comparisons\n",
    "<a id=\"functioncompare\"></a>"
   ]
  },
  {
   "cell_type": "markdown",
   "metadata": {},
   "source": [
    "<a id=\"invnorm\"></a>\n",
    "### Inverse of the Normal Distribution, $ N (\\mu, \\sigma)$\n",
    "\n",
    "\n",
    "**MATLAB** Function:\n",
    "\n",
    "```matlab\n",
    "x = norminv(data, mu, sigma)\n",
    "```\n",
    "\n",
    "**Python** Function:\n",
    "\n",
    "```python\n",
    "x = norm.ppf(data, mu, sigma)\n",
    "```\n",
    "\n",
    "Resources\n",
    "* [MATLAB Function](https://es.mathworks.com/help/stats/norminv.html)\n",
    "* [Python Function](https://docs.scipy.org/doc/scipy-0.19.1/reference/generated/scipy.stats.norm.html#scipy.stats.norm)\n",
    "* [Stackoverflow](https://stackoverflow.com/questions/46199199/how-to-calculate-normal-inverse-cumulative-distribution-function-efficiently-in)\n",
    "* [Stackoverflow](https://stackoverflow.com/questions/20626994/how-to-calculate-the-inverse-of-the-normal-cumulative-distribution-function-in-p)"
   ]
  },
  {
   "cell_type": "markdown",
   "metadata": {},
   "source": [
    "### Histogram Function\n",
    "\n",
    "**MATLAB** Function:\n",
    "```matlab\n",
    "[bin_counts, bin_centers] = hist(x, n_bins)\n",
    "[bincounts, ind] = histc(x, binranges, dimension)\n",
    "```\n",
    "\n",
    "**Python** Function\n",
    "\n",
    "```python\n",
    "[bin_counts, bin_edges] = np.histogram(x, bins)\n",
    "```\n",
    "\n",
    "MATLAB defines the hist vector as bin-centers. Numpy words with bin-edges.\n",
    "\n",
    "Resources\n",
    "\n",
    "* MATLAB [hist Function](https://es.mathworks.com/help/matlab/ref/hist.html)\n",
    "* MATLAB [histc Function](https://es.mathworks.com/help/matlab/ref/histc.html)\n",
    "* [Python Function]()\n",
    "* Element differences - [stackoverflow](https://stackoverflow.com/questions/18065951/why-does-numpy-histogram-python-leave-off-one-element-as-compared-to-hist-in-m)\n",
    "* match MATLAB hist() with numpy histogram() - [stackoverflow](https://stackoverflow.com/questions/41869651/match-matlab-hist-with-numpy-histogram)\n",
    "* replicate histc() in numpy - [stackoverflow](https://stackoverflow.com/questions/32765333/how-do-i-replicate-this-matlab-function-in-numpy/32765547#32765547)\n",
    "\n"
   ]
  },
  {
   "cell_type": "markdown",
   "metadata": {},
   "source": [
    "## Algorithm Steps"
   ]
  },
  {
   "cell_type": "markdown",
   "metadata": {},
   "source": [
    "### **toy_example_RBIG_2017.m**"
   ]
  },
  {
   "cell_type": "markdown",
   "metadata": {},
   "source": [
    "##### Major Steps\n",
    "\n",
    "1. Generate toy data.\n",
    "2. Plot toy data.\n",
    "3. Learn the transformation that *gaussianizes* the data.\n",
    "4. Apply learned transformation to new data.\n",
    "5. Synthesize new data from *Gaussian* data.\n",
    "6. Plot results."
   ]
  },
  {
   "cell_type": "markdown",
   "metadata": {},
   "source": [
    "### RBIG_2017.m\n",
    "<a id=\"rbig\"></a>"
   ]
  },
  {
   "cell_type": "markdown",
   "metadata": {},
   "source": [
    "#### Variables\n",
    "\n",
    "* precision\n",
    "* percent\n",
    "* transformation (PCA, random projections, ICA)\n",
    "* number of layers\n",
    "\n",
    "#### Major Steps\n",
    "\n",
    "1. Check parameters.\n",
    "2. Get data dimensions.\n",
    "3. Estimate the tolerance (mean, standard deviation).\n",
    "4. Marginal Gaussianization.\n",
    "5. Rotation.\n",
    "6. Multi-Information Reduction\n",
    "\n",
    "#### Methods\n",
    "\n",
    "* Information Reduction\n",
    "* Entropy (MLE, Miller-Maddow Correction)\n",
    "* Marginal Gaussianization\n",
    "* Marginal Uniformization\n",
    "* Made Monotonic"
   ]
  },
  {
   "cell_type": "markdown",
   "metadata": {},
   "source": [
    "### inv_rbig.m"
   ]
  },
  {
   "cell_type": "markdown",
   "metadata": {},
   "source": [
    "#### Major Steps\n",
    "\n",
    "1. Get dimensions of the data.\n",
    "2. Use transformation for all data.\n",
    "3. Inverse Marginal Gaussianization.\n",
    "4. Inverse Gaussian Uniformization."
   ]
  },
  {
   "cell_type": "code",
   "execution_count": null,
   "metadata": {
    "collapsed": true
   },
   "outputs": [],
   "source": []
  }
 ],
 "metadata": {
  "kernelspec": {
   "display_name": "Python 3",
   "language": "python",
   "name": "python3"
  },
  "language_info": {
   "codemirror_mode": {
    "name": "ipython",
    "version": 3
   },
   "file_extension": ".py",
   "mimetype": "text/x-python",
   "name": "python",
   "nbconvert_exporter": "python",
   "pygments_lexer": "ipython3",
   "version": "3.6.1"
  },
  "toc": {
   "nav_menu": {},
   "number_sections": true,
   "sideBar": true,
   "skip_h1_title": false,
   "toc_cell": false,
   "toc_position": {},
   "toc_section_display": "block",
   "toc_window_display": false
  },
  "varInspector": {
   "cols": {
    "lenName": 16,
    "lenType": 16,
    "lenVar": 40
   },
   "kernels_config": {
    "python": {
     "delete_cmd_postfix": "",
     "delete_cmd_prefix": "del ",
     "library": "var_list.py",
     "varRefreshCmd": "print(var_dic_list())"
    },
    "r": {
     "delete_cmd_postfix": ") ",
     "delete_cmd_prefix": "rm(",
     "library": "var_list.r",
     "varRefreshCmd": "cat(var_dic_list()) "
    }
   },
   "types_to_exclude": [
    "module",
    "function",
    "builtin_function_or_method",
    "instance",
    "_Feature"
   ],
   "window_display": false
  }
 },
 "nbformat": 4,
 "nbformat_minor": 2
}
